{
  "nbformat": 4,
  "nbformat_minor": 0,
  "metadata": {
    "colab": {
      "name": "deep_from_scratch_ch3_NeuralNetwork.ipynb",
      "provenance": [],
      "collapsed_sections": [],
      "authorship_tag": "ABX9TyOuBqpVnYibwsc3znoTEnXs",
      "include_colab_link": true
    },
    "kernelspec": {
      "name": "python3",
      "display_name": "Python 3"
    },
    "language_info": {
      "name": "python"
    }
  },
  "cells": [
    {
      "cell_type": "markdown",
      "metadata": {
        "id": "view-in-github",
        "colab_type": "text"
      },
      "source": [
        "<a href=\"https://colab.research.google.com/github/jinInoue-rrr/from_scratch/blob/main/deep_from_scratch_ch3_NeuralNetwork.ipynb\" target=\"_parent\"><img src=\"https://colab.research.google.com/assets/colab-badge.svg\" alt=\"Open In Colab\"/></a>"
      ]
    },
    {
      "cell_type": "markdown",
      "metadata": {
        "id": "gP3cqtbDNsDA"
      },
      "source": [
        "## 3.1 パーセプトロンからニューラルネットワークへ\n",
        "\n",
        "<br />\n",
        "\n",
        "ニューラルネットワークは、適切な重みパラメータをデータから自動で学習できるという点が優れている。先ほどまでのパーセプトロンは重みを自分で決めていたので。それが適切かどうかはわからない。重みとバイアスの値が発火のしやすさに関わるから。"
      ]
    },
    {
      "cell_type": "markdown",
      "metadata": {
        "id": "8Cp81qhPOPrv"
      },
      "source": [
        "### 3.1.1 NNの例\n",
        "\n",
        "入力層(0)、中間層(1)（隠れ層）、出力層(2)の３つ\n",
        "\n",
        "ゼロ層から始める方が、pythonのインデックスと相性がいい。"
      ]
    },
    {
      "cell_type": "markdown",
      "metadata": {
        "id": "hBV68g9YOpMl"
      },
      "source": [
        "n層のネットワークは、重みがあるのは(n-1)層分だけ。なので、(n-1)層ネットワークと呼ぶ"
      ]
    },
    {
      "cell_type": "markdown",
      "metadata": {
        "id": "uQftIHARO3ni"
      },
      "source": [
        "### 3.1.2 パーセプトロンの復習\n",
        "\n",
        "<br />\n",
        "\n",
        "$h(x)$：活性化関数...入力信号の総和が0を下回るなら、出力0を、0を上回るなら1を返す関数"
      ]
    },
    {
      "cell_type": "markdown",
      "metadata": {
        "id": "1JqByEHuP2EL"
      },
      "source": [
        "本書ではニューロンとノードを同じ意味で扱う"
      ]
    },
    {
      "cell_type": "markdown",
      "metadata": {
        "id": "ubY1EfEcQ6Bm"
      },
      "source": [
        "一般的に単純パーセプトロンといえば、それは単層のネットワークで、活性化関数に閾値を境に出力が切り替わるステップ関数を利用したモデルのことを指す。\n",
        "多層パーセプトロンというと、これは多層で滑らかな活性化関数を使用するネットワークを指すのが一般的 "
      ]
    },
    {
      "cell_type": "markdown",
      "metadata": {
        "id": "DJD60lDJSYHy"
      },
      "source": [
        "## 3.2 活性化関数\n",
        "\n",
        "<br />\n",
        "\n",
        "簡単な発想の飛躍で、それまで離散的というか、ぶつ切りになっていたステップ関数をより滑らかなものに変えたら、性能がどうなるのか？は当然気になるところ。\n",
        "\n",
        "<br />\n",
        "\n",
        "### 3.2.1 シグモイド関数\n",
        "\n",
        "$h(x) = \\frac{1}{1 + exp(-x)} ... (3.6)$\n",
        "\n",
        "である。ニューラルネットワークでは、活性化関数にシグモイド関数を用いて信号の変換を行い、その変換された信号が次のニューロンに入力として伝えられる。パーセプトロンとNNの違いは、この活性化関数の違いのみである。\n"
      ]
    },
    {
      "cell_type": "markdown",
      "metadata": {
        "id": "bofxf1E5zaSw"
      },
      "source": [
        "##### Colaboratory環境設定\n",
        "\n",
        "#### Drive内にディレクトリを設定する"
      ]
    },
    {
      "cell_type": "code",
      "metadata": {
        "colab": {
          "base_uri": "https://localhost:8080/"
        },
        "id": "6iaHme_mx2mV",
        "outputId": "06291f29-68cf-41dd-c0ca-cd60ff4a0cdc"
      },
      "source": [
        "from google.colab import drive\n",
        "drive.mount(\"/content/drive\")"
      ],
      "execution_count": 69,
      "outputs": [
        {
          "output_type": "stream",
          "text": [
            "Mounted at /content/drive\n"
          ],
          "name": "stdout"
        }
      ]
    },
    {
      "cell_type": "code",
      "metadata": {
        "id": "T3YfgBqhyWiD"
      },
      "source": [
        "import os"
      ],
      "execution_count": 70,
      "outputs": []
    },
    {
      "cell_type": "code",
      "metadata": {
        "colab": {
          "base_uri": "https://localhost:8080/",
          "height": 35
        },
        "id": "lsREkyGZyzin",
        "outputId": "f817cf6b-6f95-43cb-965f-f7cdd6c7c0ec"
      },
      "source": [
        "os.getcwd()"
      ],
      "execution_count": 71,
      "outputs": [
        {
          "output_type": "execute_result",
          "data": {
            "application/vnd.google.colaboratory.intrinsic+json": {
              "type": "string"
            },
            "text/plain": [
              "'/content'"
            ]
          },
          "metadata": {
            "tags": []
          },
          "execution_count": 71
        }
      ]
    },
    {
      "cell_type": "code",
      "metadata": {
        "id": "DGbWguUky2oL"
      },
      "source": [
        "os.chdir(\"/content/drive/My Drive/deep-learning-from-scratch-master/ch03\")"
      ],
      "execution_count": 74,
      "outputs": []
    },
    {
      "cell_type": "code",
      "metadata": {
        "colab": {
          "base_uri": "https://localhost:8080/",
          "height": 35
        },
        "id": "0HKb2l3JzLva",
        "outputId": "4c4660a9-de96-4f26-8699-523d582a319c"
      },
      "source": [
        "os.getcwd()"
      ],
      "execution_count": 75,
      "outputs": [
        {
          "output_type": "execute_result",
          "data": {
            "application/vnd.google.colaboratory.intrinsic+json": {
              "type": "string"
            },
            "text/plain": [
              "'/content/drive/My Drive/deep-learning-from-scratch-master/ch03'"
            ]
          },
          "metadata": {
            "tags": []
          },
          "execution_count": 75
        }
      ]
    },
    {
      "cell_type": "code",
      "metadata": {
        "id": "3D82EHJ-SrVB"
      },
      "source": [
        "### 3.2.2 ステップ関数の実装\n",
        "\n",
        "def step_function(x):\n",
        "    if x > 0:\n",
        "        return 1\n",
        "    else:\n",
        "        return 0"
      ],
      "execution_count": 4,
      "outputs": []
    },
    {
      "cell_type": "code",
      "metadata": {
        "id": "N1cB31AjUFO4"
      },
      "source": [
        "##先の実装だと、入力にnumpyが入りづらい\n",
        "\n",
        "def step_function(x):\n",
        "    y = x > 0\n",
        "    return y.astype(np.int)"
      ],
      "execution_count": 5,
      "outputs": []
    },
    {
      "cell_type": "code",
      "metadata": {
        "colab": {
          "base_uri": "https://localhost:8080/"
        },
        "id": "HooU5YLvUgnX",
        "outputId": "bbefc521-b582-47e7-c464-fec8bbb900d4"
      },
      "source": [
        "import numpy as np\n",
        "x = np.array([-1.0, 1.0, 2.0])\n",
        "x"
      ],
      "execution_count": 6,
      "outputs": [
        {
          "output_type": "execute_result",
          "data": {
            "text/plain": [
              "array([-1.,  1.,  2.])"
            ]
          },
          "metadata": {
            "tags": []
          },
          "execution_count": 6
        }
      ]
    },
    {
      "cell_type": "code",
      "metadata": {
        "id": "1YtWYjgkUm_B"
      },
      "source": [
        "y = x > 0"
      ],
      "execution_count": 7,
      "outputs": []
    },
    {
      "cell_type": "code",
      "metadata": {
        "colab": {
          "base_uri": "https://localhost:8080/"
        },
        "id": "BJVc7heUUrSJ",
        "outputId": "3f965a32-3f3c-4dff-df9b-4172def1a1a0"
      },
      "source": [
        "y#0より大きいかどうかの真偽値をとるnumpy配列が生成されたが、これだと使い勝手が悪いので、True = 1, False = 0の変換を施している"
      ],
      "execution_count": 8,
      "outputs": [
        {
          "output_type": "execute_result",
          "data": {
            "text/plain": [
              "array([False,  True,  True])"
            ]
          },
          "metadata": {
            "tags": []
          },
          "execution_count": 8
        }
      ]
    },
    {
      "cell_type": "markdown",
      "metadata": {
        "id": "DMs6Lq-BUsVE"
      },
      "source": [
        "### 3.2.3 ステップ関数のグラフ\n",
        "\n"
      ]
    },
    {
      "cell_type": "code",
      "metadata": {
        "id": "Ij-5WQKnVMKO"
      },
      "source": [
        "import numpy as np\n",
        "import matplotlib.pylab as plt\n",
        "\n",
        "def step_function(x):\n",
        "    return np.array(x > 0, dtype = np.int)\n",
        "\n"
      ],
      "execution_count": 9,
      "outputs": []
    },
    {
      "cell_type": "code",
      "metadata": {
        "id": "0vmrRf7QVZzZ"
      },
      "source": [
        "x = np.arange(-5.0, 5.0, 0.1)\n",
        "y = step_function(x)"
      ],
      "execution_count": 10,
      "outputs": []
    },
    {
      "cell_type": "code",
      "metadata": {
        "colab": {
          "base_uri": "https://localhost:8080/",
          "height": 265
        },
        "id": "6VklB6T7ViqJ",
        "outputId": "2d1f89f7-32a7-4e1a-f044-d16f54cbbf7a"
      },
      "source": [
        "plt.plot(x, y)\n",
        "plt.ylim(-0.1, 1.1)\n",
        "plt.show()#ステップ関数（階段関数）\n"
      ],
      "execution_count": 11,
      "outputs": [
        {
          "output_type": "display_data",
          "data": {
            "image/png": "[encoded data removed]",
            "text/plain": [
              "<Figure size 432x288 with 1 Axes>"
            ]
          },
          "metadata": {
            "tags": [],
            "needs_background": "light"
          }
        }
      ]
    },
    {
      "cell_type": "markdown",
      "metadata": {
        "id": "LZC-cJMqVpay"
      },
      "source": [
        "### 3.2.4 シグモイド関数の実装\n",
        "\n"
      ]
    },
    {
      "cell_type": "code",
      "metadata": {
        "id": "MS3fUS5lV0yj"
      },
      "source": [
        "def sigmoid(x):\n",
        "    return 1/(1+np.exp(-x))\n",
        "  \n",
        "#sigmoid関数はスカラーに対応するが、xがnumpy配列でも、numpy配列のブロードキャスト機能によって、ベクトルとして出力される"
      ],
      "execution_count": 13,
      "outputs": []
    },
    {
      "cell_type": "code",
      "metadata": {
        "colab": {
          "base_uri": "https://localhost:8080/"
        },
        "id": "Ez49e30rV8xs",
        "outputId": "1a282d79-464d-4e75-a389-2c64acfa7ad4"
      },
      "source": [
        "x = np.array([-1.0, 1.0, 2.0])\n",
        "sigmoid(x)"
      ],
      "execution_count": 14,
      "outputs": [
        {
          "output_type": "execute_result",
          "data": {
            "text/plain": [
              "array([0.26894142, 0.73105858, 0.88079708])"
            ]
          },
          "metadata": {
            "tags": []
          },
          "execution_count": 14
        }
      ]
    },
    {
      "cell_type": "code",
      "metadata": {
        "colab": {
          "base_uri": "https://localhost:8080/",
          "height": 265
        },
        "id": "oB2hzQXcWWZH",
        "outputId": "b699f24e-6584-42eb-97b6-c4bfb96d38bd"
      },
      "source": [
        "x = np.arange(-5.0, 5.0, 0.1)\n",
        "y = sigmoid(x)\n",
        "plt.plot(x, y)\n",
        "plt.ylim(-0.1, 1.1)\n",
        "plt.show()"
      ],
      "execution_count": 15,
      "outputs": [
        {
          "output_type": "display_data",
          "data": {
            "image/png": "[encoded data removed]",
            "text/plain": [
              "<Figure size 432x288 with 1 Axes>"
            ]
          },
          "metadata": {
            "tags": [],
            "needs_background": "light"
          }
        }
      ]
    },
    {
      "cell_type": "code",
      "metadata": {
        "id": "japzrpVnWp78"
      },
      "source": [
        "# 活性化関数に非線形な関数を用いる理由は、線形な関数だと層を厚くする意味がなくなるため。"
      ],
      "execution_count": 16,
      "outputs": []
    },
    {
      "cell_type": "markdown",
      "metadata": {
        "id": "Aex8OPyIXba0"
      },
      "source": [
        "### 3.2.7 ReLU関数\n",
        "\n",
        "<br />\n",
        "\n",
        "Rectified Linear Unit ... 入力が0を超えていれば、そのまま出力し、0を下回るなら0を返すという関数"
      ]
    },
    {
      "cell_type": "code",
      "metadata": {
        "id": "hSnXlayTYHsU"
      },
      "source": [
        "#ReLU関数の実装は簡単\n",
        "\n",
        "def ReLU(x):\n",
        "    return np.maximum(0, x)"
      ],
      "execution_count": 17,
      "outputs": []
    },
    {
      "cell_type": "markdown",
      "metadata": {
        "id": "z2cjwmYuYT61"
      },
      "source": [
        "## 3.3 多次元配列の計算\n",
        "\n",
        "<br />\n",
        "\n",
        "### 3.3.1 多次元配列\n",
        "\n",
        "\n"
      ]
    },
    {
      "cell_type": "code",
      "metadata": {
        "id": "V5To0zpbYd9v"
      },
      "source": [
        "import numpy as np\n",
        "\n",
        "A = np.array([1, 2, 3, 4])"
      ],
      "execution_count": 18,
      "outputs": []
    },
    {
      "cell_type": "code",
      "metadata": {
        "colab": {
          "base_uri": "https://localhost:8080/"
        },
        "id": "PNNACAeKYmn_",
        "outputId": "df70e6d0-4e12-4788-cb00-feb79e96c42f"
      },
      "source": [
        "print(A)"
      ],
      "execution_count": 19,
      "outputs": [
        {
          "output_type": "stream",
          "text": [
            "[1 2 3 4]\n"
          ],
          "name": "stdout"
        }
      ]
    },
    {
      "cell_type": "code",
      "metadata": {
        "colab": {
          "base_uri": "https://localhost:8080/"
        },
        "id": "Cp_qdVbeYnTu",
        "outputId": "202c5167-d557-4095-b537-4c594c9dc275"
      },
      "source": [
        "np.ndim(A)"
      ],
      "execution_count": 20,
      "outputs": [
        {
          "output_type": "execute_result",
          "data": {
            "text/plain": [
              "1"
            ]
          },
          "metadata": {
            "tags": []
          },
          "execution_count": 20
        }
      ]
    },
    {
      "cell_type": "code",
      "metadata": {
        "colab": {
          "base_uri": "https://localhost:8080/"
        },
        "id": "hAbhqslFYo_S",
        "outputId": "d3887053-e1a0-487a-8df6-35f5285962cd"
      },
      "source": [
        "A.shape#タプルが返されることに注意"
      ],
      "execution_count": 21,
      "outputs": [
        {
          "output_type": "execute_result",
          "data": {
            "text/plain": [
              "(4,)"
            ]
          },
          "metadata": {
            "tags": []
          },
          "execution_count": 21
        }
      ]
    },
    {
      "cell_type": "code",
      "metadata": {
        "colab": {
          "base_uri": "https://localhost:8080/"
        },
        "id": "4mWupdwqYr54",
        "outputId": "521d7b76-4b06-4a4e-81a5-02144a05be29"
      },
      "source": [
        "A.shape[0]"
      ],
      "execution_count": 22,
      "outputs": [
        {
          "output_type": "execute_result",
          "data": {
            "text/plain": [
              "4"
            ]
          },
          "metadata": {
            "tags": []
          },
          "execution_count": 22
        }
      ]
    },
    {
      "cell_type": "code",
      "metadata": {
        "colab": {
          "base_uri": "https://localhost:8080/"
        },
        "id": "Z967BdfjYtG1",
        "outputId": "94146b7f-200d-4387-c4d4-659cd23c1baf"
      },
      "source": [
        "B = np.array([[1, 2], [3, 4], [5, 6]])\n",
        "print(B)"
      ],
      "execution_count": 23,
      "outputs": [
        {
          "output_type": "stream",
          "text": [
            "[[1 2]\n",
            " [3 4]\n",
            " [5 6]]\n"
          ],
          "name": "stdout"
        }
      ]
    },
    {
      "cell_type": "code",
      "metadata": {
        "colab": {
          "base_uri": "https://localhost:8080/"
        },
        "id": "4jhdmbsBY_Zg",
        "outputId": "b78948b7-3b6b-4d66-d73e-73989f38d655"
      },
      "source": [
        "np.ndim(B)"
      ],
      "execution_count": 24,
      "outputs": [
        {
          "output_type": "execute_result",
          "data": {
            "text/plain": [
              "2"
            ]
          },
          "metadata": {
            "tags": []
          },
          "execution_count": 24
        }
      ]
    },
    {
      "cell_type": "code",
      "metadata": {
        "colab": {
          "base_uri": "https://localhost:8080/"
        },
        "id": "DpZl635GZA8h",
        "outputId": "841f58fb-0883-47ae-8961-a87b4cc471c2"
      },
      "source": [
        "B.shape"
      ],
      "execution_count": 25,
      "outputs": [
        {
          "output_type": "execute_result",
          "data": {
            "text/plain": [
              "(3, 2)"
            ]
          },
          "metadata": {
            "tags": []
          },
          "execution_count": 25
        }
      ]
    },
    {
      "cell_type": "code",
      "metadata": {
        "colab": {
          "base_uri": "https://localhost:8080/"
        },
        "id": "Ja6OW69HZDn9",
        "outputId": "51c206a5-f73d-493f-9fda-1eda6904577e"
      },
      "source": [
        "A = np.array([[1, 2], [3, 4]])\n",
        "A.shape"
      ],
      "execution_count": 26,
      "outputs": [
        {
          "output_type": "execute_result",
          "data": {
            "text/plain": [
              "(2, 2)"
            ]
          },
          "metadata": {
            "tags": []
          },
          "execution_count": 26
        }
      ]
    },
    {
      "cell_type": "code",
      "metadata": {
        "id": "MEvLFyGdZTs0"
      },
      "source": [
        "B = np.array([[5, 6], [7, 8]])"
      ],
      "execution_count": 27,
      "outputs": []
    },
    {
      "cell_type": "code",
      "metadata": {
        "colab": {
          "base_uri": "https://localhost:8080/"
        },
        "id": "O_e6R78hZYI1",
        "outputId": "e3e8b0c7-0879-4fed-8d03-534a85e1ae06"
      },
      "source": [
        "B.shape"
      ],
      "execution_count": 28,
      "outputs": [
        {
          "output_type": "execute_result",
          "data": {
            "text/plain": [
              "(2, 2)"
            ]
          },
          "metadata": {
            "tags": []
          },
          "execution_count": 28
        }
      ]
    },
    {
      "cell_type": "code",
      "metadata": {
        "colab": {
          "base_uri": "https://localhost:8080/"
        },
        "id": "kCkIjoNdZY7t",
        "outputId": "4a1f60d7-7638-4d23-8034-b5dbbcf99f65"
      },
      "source": [
        "#アダマール積ではなく、行列の積（ドット積）を計算する\n",
        "\n",
        "np.dot(A, B)#Aの第一行とBの第一列の内積、Aの第二行とBの第一列の内積、 Aの第一行とBの第二列の内積、 Aの第二行とBの第二列の内積の4つを計算"
      ],
      "execution_count": 30,
      "outputs": [
        {
          "output_type": "execute_result",
          "data": {
            "text/plain": [
              "array([[19, 22],\n",
              "       [43, 50]])"
            ]
          },
          "metadata": {
            "tags": []
          },
          "execution_count": 30
        }
      ]
    },
    {
      "cell_type": "code",
      "metadata": {
        "id": "m3H5r-USZjCc"
      },
      "source": [
        "A = np.array([[1, 2, 3], [4, 5, 6]])\n",
        "B = np.array([[1, 2], [3, 4], [5, 6]])"
      ],
      "execution_count": 31,
      "outputs": []
    },
    {
      "cell_type": "code",
      "metadata": {
        "colab": {
          "base_uri": "https://localhost:8080/"
        },
        "id": "nsZD8COyaU7-",
        "outputId": "4c1f6ead-7b64-45e2-f800-0ac840754b24"
      },
      "source": [
        "A.shape"
      ],
      "execution_count": 32,
      "outputs": [
        {
          "output_type": "execute_result",
          "data": {
            "text/plain": [
              "(2, 3)"
            ]
          },
          "metadata": {
            "tags": []
          },
          "execution_count": 32
        }
      ]
    },
    {
      "cell_type": "code",
      "metadata": {
        "colab": {
          "base_uri": "https://localhost:8080/"
        },
        "id": "c-3mRPV3aVsD",
        "outputId": "6a737337-9286-4771-e45b-6e06ec005130"
      },
      "source": [
        "B.shape"
      ],
      "execution_count": 33,
      "outputs": [
        {
          "output_type": "execute_result",
          "data": {
            "text/plain": [
              "(3, 2)"
            ]
          },
          "metadata": {
            "tags": []
          },
          "execution_count": 33
        }
      ]
    },
    {
      "cell_type": "code",
      "metadata": {
        "colab": {
          "base_uri": "https://localhost:8080/"
        },
        "id": "9W97KR2iaWYN",
        "outputId": "658ddf1f-445f-4593-f8d4-510bc81385a7"
      },
      "source": [
        "np.dot(A, B)"
      ],
      "execution_count": 34,
      "outputs": [
        {
          "output_type": "execute_result",
          "data": {
            "text/plain": [
              "array([[22, 28],\n",
              "       [49, 64]])"
            ]
          },
          "metadata": {
            "tags": []
          },
          "execution_count": 34
        }
      ]
    },
    {
      "cell_type": "markdown",
      "metadata": {
        "id": "hQjx2khLaYBR"
      },
      "source": [
        "### 3.3.3 ニューラルネットワークの行列の積"
      ]
    },
    {
      "cell_type": "code",
      "metadata": {
        "id": "KAOSxgzpa6NT"
      },
      "source": [
        "X = np.array([1, 2])"
      ],
      "execution_count": 36,
      "outputs": []
    },
    {
      "cell_type": "code",
      "metadata": {
        "colab": {
          "base_uri": "https://localhost:8080/"
        },
        "id": "mYmCdcEKa8Vg",
        "outputId": "60237c83-8b0d-4369-9482-59d151cbf9fb"
      },
      "source": [
        "X.shape"
      ],
      "execution_count": 37,
      "outputs": [
        {
          "output_type": "execute_result",
          "data": {
            "text/plain": [
              "(2,)"
            ]
          },
          "metadata": {
            "tags": []
          },
          "execution_count": 37
        }
      ]
    },
    {
      "cell_type": "code",
      "metadata": {
        "colab": {
          "base_uri": "https://localhost:8080/"
        },
        "id": "nGWdotsda-mL",
        "outputId": "cb3ba115-0ae9-4fc8-f6bd-c37cd0ecce72"
      },
      "source": [
        "W = np.array([[1, 3, 5], [2, 4, 6]])\n",
        "W.shape"
      ],
      "execution_count": 39,
      "outputs": [
        {
          "output_type": "execute_result",
          "data": {
            "text/plain": [
              "(2, 3)"
            ]
          },
          "metadata": {
            "tags": []
          },
          "execution_count": 39
        }
      ]
    },
    {
      "cell_type": "code",
      "metadata": {
        "colab": {
          "base_uri": "https://localhost:8080/"
        },
        "id": "G_ZBnp-bbGZn",
        "outputId": "01877a35-8fb2-407a-c57c-1c8e8a06a8cd"
      },
      "source": [
        "Y = np.dot(X, W)\n",
        "print(Y)"
      ],
      "execution_count": 40,
      "outputs": [
        {
          "output_type": "stream",
          "text": [
            "[ 5 11 17]\n"
          ],
          "name": "stdout"
        }
      ]
    },
    {
      "cell_type": "markdown",
      "metadata": {
        "id": "lYIL0LERbeE_"
      },
      "source": [
        "## 3.4 3層のニューラルネットワークの実装\n",
        "\n",
        "<br />\n",
        "\n"
      ]
    },
    {
      "cell_type": "code",
      "metadata": {
        "colab": {
          "base_uri": "https://localhost:8080/"
        },
        "id": "qmh0o897ewvb",
        "outputId": "38590eec-f2dc-4243-e661-083563110138"
      },
      "source": [
        "X = np.array([1.0, 0.5])# 1*2ベクトル\n",
        "W1 = np.array([[0.1, 0.3, 0.5], [0.2, 0.4, 0.6]]) #2 * 3ベクトル\n",
        "B1 = np.array([0.1, 0.2, 0.3]) # 1 * 3ベクトル\n",
        "\n",
        "print(W1.shape)\n",
        "print(X.shape)\n",
        "print(B1.shape)\n",
        "\n",
        "A1 = np.dot(X, W1) + B1"
      ],
      "execution_count": 43,
      "outputs": [
        {
          "output_type": "stream",
          "text": [
            "(2, 3)\n",
            "(2,)\n",
            "(3,)\n"
          ],
          "name": "stdout"
        }
      ]
    },
    {
      "cell_type": "code",
      "metadata": {
        "id": "de1mGnHWfMCX"
      },
      "source": [
        "Z1 = sigmoid(A1)"
      ],
      "execution_count": 44,
      "outputs": []
    },
    {
      "cell_type": "code",
      "metadata": {
        "colab": {
          "base_uri": "https://localhost:8080/"
        },
        "id": "tjDtEWwofknG",
        "outputId": "ffe8854d-9bf5-4949-9332-07e85d016b3e"
      },
      "source": [
        "print(A1)\n",
        "print(Z1)"
      ],
      "execution_count": 45,
      "outputs": [
        {
          "output_type": "stream",
          "text": [
            "[0.3 0.7 1.1]\n",
            "[0.57444252 0.66818777 0.75026011]\n"
          ],
          "name": "stdout"
        }
      ]
    },
    {
      "cell_type": "code",
      "metadata": {
        "id": "G-XEMLsGfn84"
      },
      "source": [
        "W2 = np.array([[0.1, 0.4], [0.2, 0.5], [0.3, 0.6]])\n",
        "B2 = np.array([0.1, 0.2])"
      ],
      "execution_count": 46,
      "outputs": []
    },
    {
      "cell_type": "code",
      "metadata": {
        "colab": {
          "base_uri": "https://localhost:8080/"
        },
        "id": "kHRCB3Grf42k",
        "outputId": "3ddd756a-3d15-47a1-e10b-dc16e064626d"
      },
      "source": [
        "print(Z1.shape)"
      ],
      "execution_count": 47,
      "outputs": [
        {
          "output_type": "stream",
          "text": [
            "(3,)\n"
          ],
          "name": "stdout"
        }
      ]
    },
    {
      "cell_type": "code",
      "metadata": {
        "colab": {
          "base_uri": "https://localhost:8080/"
        },
        "id": "_gXMpu-Xf7IU",
        "outputId": "c7f312ee-e059-4043-d629-8b0fab03d397"
      },
      "source": [
        "print(W2.shape)"
      ],
      "execution_count": 48,
      "outputs": [
        {
          "output_type": "stream",
          "text": [
            "(3, 2)\n"
          ],
          "name": "stdout"
        }
      ]
    },
    {
      "cell_type": "code",
      "metadata": {
        "colab": {
          "base_uri": "https://localhost:8080/"
        },
        "id": "RJzWCuXtf9G1",
        "outputId": "7d9f729b-ea9f-4c83-9543-66d9657c2921"
      },
      "source": [
        "print(B2.shape)"
      ],
      "execution_count": 49,
      "outputs": [
        {
          "output_type": "stream",
          "text": [
            "(2,)\n"
          ],
          "name": "stdout"
        }
      ]
    },
    {
      "cell_type": "code",
      "metadata": {
        "id": "hNYSZeNigAqT"
      },
      "source": [
        "A2 = np.dot(Z1, W2) + B2\n",
        "Z2 = sigmoid(A2)"
      ],
      "execution_count": 50,
      "outputs": []
    },
    {
      "cell_type": "code",
      "metadata": {
        "id": "lBeqkT1bgZ9m"
      },
      "source": [
        "def identity_function(x):\n",
        "    return x"
      ],
      "execution_count": 51,
      "outputs": []
    },
    {
      "cell_type": "code",
      "metadata": {
        "id": "X9ye7AqIgiNi"
      },
      "source": [
        "W3 = np.array([[0.1, 0.3], [0.2, 0.4]])\n",
        "B3 = np.array([0.1, 0.2])"
      ],
      "execution_count": 52,
      "outputs": []
    },
    {
      "cell_type": "code",
      "metadata": {
        "id": "_mAtZ08Ugs3k"
      },
      "source": [
        "A3 = np.dot(Z2, W3) + B3\n",
        "Y = identity_function(A3)#恒等関数...出力層の活性化関数\n"
      ],
      "execution_count": 53,
      "outputs": []
    },
    {
      "cell_type": "markdown",
      "metadata": {
        "id": "n4FOQwMUg4FF"
      },
      "source": [
        "##### 恒等関数について\n",
        "\n",
        "<br />\n",
        "\n",
        "解く問題が分類問題なら、最後の出力層の活性化関数はsigmoid関数、多クラス分類ではsoftmax関\n",
        "数、回帰ならそのまま出力する恒等関数を用いる\n"
      ]
    },
    {
      "cell_type": "markdown",
      "metadata": {
        "id": "mg3TsjR-hhG-"
      },
      "source": [
        "### 3.4.3 NN実装のまとめ\n",
        "\n"
      ]
    },
    {
      "cell_type": "code",
      "metadata": {
        "id": "9A4-2U3nhtoS"
      },
      "source": [
        "#重みとバイアスの初期化を行い、それらをdictionary型の変数networkに格納する\n",
        "\n",
        "def init_network():\n",
        "    network = {}#これは？\n",
        "    network[\"W1\"] = np.array([[0.1, 0.3, 0.5], [0.2, 0.4, 0.6]])#まず、0→1の重みを、2, 3行列で表す\n",
        "    network[\"b1\"] = np.array([0.1, 0.2, 0.3])#0→1のバイアスを1, 3ベクトルで表す\n",
        "    network[\"W2\"] = np.array([[0.1, 0.4], [0.2, 0.5], [0.3, 0.6]]) # 1→2の重みを、3, 2行列で表す\n",
        "    network[\"b2\"] = np.array([0.1, 0.2]) # 1→2の重みを、1,2ベクトルで表す\n",
        "    network[\"W3\"] = np.array([[0.1, 0.3], [0.2, 0.4]])\n",
        "    network[\"b3\"] = np.array([0.1, 0.2])\n",
        "\n",
        "    return network\n"
      ],
      "execution_count": 54,
      "outputs": []
    },
    {
      "cell_type": "code",
      "metadata": {
        "id": "HY7p7Pb6jbGm"
      },
      "source": [
        "#入力が出力に変換されるプロセスをまとめて実装\n",
        "#入力から出力に向かう方向をforwardとかいう\n",
        "\n",
        "def forward(network, x):\n",
        "    W1, W2, W3 = network[\"W1\"], network[\"W2\"], network[\"W3\"]\n",
        "    b1, b2, b3 = network[\"b1\"], network[\"b2\"], network[\"b3\"]\n",
        "\n",
        "    a1 = np.dot(x, W1) + b1#0→1の入力、重みと入力の線形和とバイアスの合計をベクトルとして格納。行はそれぞれ次の層のニューロンの番号に対応している\n",
        "    z1 = sigmoid(a1) # 0→1の入力を活性化関数sigmoidによって出力に変換する\n",
        "    a2 = np.dot(z1, W2) + b2 #1→2の入力、重みと入力の線形和とバイアスの合計をベクトルとして格納。以下同文\n",
        "    z2 = sigmoid(a2)#z1と同様\n",
        "    a3 = np.dot(z2, W3) + b3 # 2 →3の入力、重みと入力の線形和とバイアスの合計を二次元ベクトルとして格納。この時点で出力層の次元と一致している。\n",
        "    y = identity_function(a3) #恒等関数によって最後の出力層に出す\n",
        "\n",
        "    return y"
      ],
      "execution_count": 55,
      "outputs": []
    },
    {
      "cell_type": "code",
      "metadata": {
        "colab": {
          "base_uri": "https://localhost:8080/"
        },
        "id": "zzrje_f5lKdo",
        "outputId": "a1086c54-32eb-4038-8578-085933909749"
      },
      "source": [
        "network = init_network()\n",
        "x = np.array([1.0, 0.5])#ここでは、入力ベクトルのみが必要とされる\n",
        "y = forward(network, x)\n",
        "print(y)"
      ],
      "execution_count": 56,
      "outputs": [
        {
          "output_type": "stream",
          "text": [
            "[0.31682708 0.69627909]\n"
          ],
          "name": "stdout"
        }
      ]
    },
    {
      "cell_type": "markdown",
      "metadata": {
        "id": "CQq2ln38ldD5"
      },
      "source": [
        "## 3.5 出力層の設計\n",
        "\n",
        "<br />\n",
        "\n",
        "回帰なら出力層に恒等関数、分類問題ならsoftmax関数を用いる"
      ]
    },
    {
      "cell_type": "markdown",
      "metadata": {
        "id": "O9Jk_r4Kl2vI"
      },
      "source": [
        "### 3.5.1 恒等関数とソフトマックス関数\n",
        "\n",
        "$y_k = \\frac{exp(a_k)}{\\sum_{i = 1}^n exp(a_i)} ... (3.10)$ \n",
        "\n",
        "<br />\n",
        "\n",
        "ここでは、手前の出力層のニューロンがn個あるとして、そこからk番目の出力を求めている\n",
        "\n"
      ]
    },
    {
      "cell_type": "code",
      "metadata": {
        "colab": {
          "base_uri": "https://localhost:8080/"
        },
        "id": "TaCOqcngmmGc",
        "outputId": "d300140a-fc92-4c98-da92-8ecfea1fe080"
      },
      "source": [
        "a = np.array([0.3, 2.9, 4.0])\n",
        "\n",
        "exp_a = np.exp(a)\n",
        "print(exp_a)"
      ],
      "execution_count": 57,
      "outputs": [
        {
          "output_type": "stream",
          "text": [
            "[ 1.34985881 18.17414537 54.59815003]\n"
          ],
          "name": "stdout"
        }
      ]
    },
    {
      "cell_type": "code",
      "metadata": {
        "colab": {
          "base_uri": "https://localhost:8080/"
        },
        "id": "KevQ9m_nnL5B",
        "outputId": "583ba4dc-1a66-4b21-a8bb-f3f6f5ad5b13"
      },
      "source": [
        "sum_exp_a = np.sum(exp_a)\n",
        "print(sum_exp_a)\n",
        "\n",
        "y = exp_a/sum_exp_a\n",
        "print(y)\n"
      ],
      "execution_count": 58,
      "outputs": [
        {
          "output_type": "stream",
          "text": [
            "74.1221542101633\n",
            "[0.01821127 0.24519181 0.73659691]\n"
          ],
          "name": "stdout"
        }
      ]
    },
    {
      "cell_type": "code",
      "metadata": {
        "id": "BANAXkAnokQz"
      },
      "source": [
        "def softmax(a):\n",
        "    exp_a = np.exp(a)\n",
        "    sum_exp_a = np.sum(exp_a)\n",
        "    y = exp_a / sum_exp_a\n",
        "\n",
        "    return y"
      ],
      "execution_count": 59,
      "outputs": []
    },
    {
      "cell_type": "markdown",
      "metadata": {
        "id": "88KLzfM3owy8"
      },
      "source": [
        "### 3.5.2 softmax関数の実装上の注意"
      ]
    },
    {
      "cell_type": "code",
      "metadata": {
        "colab": {
          "base_uri": "https://localhost:8080/"
        },
        "id": "Gl-ejuNhpi6y",
        "outputId": "80f0903c-1e63-4fbd-e730-2c8ff47ec3a3"
      },
      "source": [
        "a = np.array([1010, 1000, 990])\n",
        "np.exp(a) / np.sum(np.exp(a))"
      ],
      "execution_count": 61,
      "outputs": [
        {
          "output_type": "stream",
          "text": [
            "/usr/local/lib/python3.7/dist-packages/ipykernel_launcher.py:2: RuntimeWarning: overflow encountered in exp\n",
            "  \n",
            "/usr/local/lib/python3.7/dist-packages/ipykernel_launcher.py:2: RuntimeWarning: invalid value encountered in true_divide\n",
            "  \n"
          ],
          "name": "stderr"
        },
        {
          "output_type": "execute_result",
          "data": {
            "text/plain": [
              "array([nan, nan, nan])"
            ]
          },
          "metadata": {
            "tags": []
          },
          "execution_count": 61
        }
      ]
    },
    {
      "cell_type": "code",
      "metadata": {
        "colab": {
          "base_uri": "https://localhost:8080/"
        },
        "id": "H61Q9uTRpm2U",
        "outputId": "0a630d37-453a-4165-f9db-410c1741ad66"
      },
      "source": [
        "c = np.max(a)\n",
        "a - c"
      ],
      "execution_count": 62,
      "outputs": [
        {
          "output_type": "execute_result",
          "data": {
            "text/plain": [
              "array([  0, -10, -20])"
            ]
          },
          "metadata": {
            "tags": []
          },
          "execution_count": 62
        }
      ]
    },
    {
      "cell_type": "code",
      "metadata": {
        "colab": {
          "base_uri": "https://localhost:8080/"
        },
        "id": "BhwSXZImpynF",
        "outputId": "0c6bac8b-7dbc-47d5-8aca-6eb4ba70b51b"
      },
      "source": [
        "np.exp(a-c)/np.sum(np.exp(a-c))"
      ],
      "execution_count": 63,
      "outputs": [
        {
          "output_type": "execute_result",
          "data": {
            "text/plain": [
              "array([9.99954600e-01, 4.53978686e-05, 2.06106005e-09])"
            ]
          },
          "metadata": {
            "tags": []
          },
          "execution_count": 63
        }
      ]
    },
    {
      "cell_type": "code",
      "metadata": {
        "id": "xIFw77M4p5Hr"
      },
      "source": [
        "#オーバーフロー対策を含めたsoftmaxの定義\n",
        "\n",
        "def softmax(a):\n",
        "    c = np.max(a)\n",
        "    exp_a = np.exp(a-c)\n",
        "    sum_exp_a = np.sum(exp_a)\n",
        "    y = exp_a/sum_exp_a\n",
        "\n",
        "    return y\n",
        "\n"
      ],
      "execution_count": 64,
      "outputs": []
    },
    {
      "cell_type": "code",
      "metadata": {
        "colab": {
          "base_uri": "https://localhost:8080/"
        },
        "id": "MkiDUTcmqVIP",
        "outputId": "32442e9a-1db9-43c8-f6bd-46765d97c3e5"
      },
      "source": [
        "a = np.array([0.3, 2.9, 4.0])\n",
        "y = softmax(a)\n",
        "print(y)"
      ],
      "execution_count": 65,
      "outputs": [
        {
          "output_type": "stream",
          "text": [
            "[0.01821127 0.24519181 0.73659691]\n"
          ],
          "name": "stdout"
        }
      ]
    },
    {
      "cell_type": "code",
      "metadata": {
        "colab": {
          "base_uri": "https://localhost:8080/"
        },
        "id": "5SyHOigOq3zk",
        "outputId": "3842c705-2299-4f43-a16f-25914b9b3203"
      },
      "source": [
        "np.sum(softmax(a))#ソフトマックス関数の出力の総和は1になるため、それぞれを確率として解釈することができる"
      ],
      "execution_count": 66,
      "outputs": [
        {
          "output_type": "execute_result",
          "data": {
            "text/plain": [
              "1.0"
            ]
          },
          "metadata": {
            "tags": []
          },
          "execution_count": 66
        }
      ]
    },
    {
      "cell_type": "code",
      "metadata": {
        "id": "NTd-11_twmpE"
      },
      "source": [
        "import sys, os\n",
        "sys.path.append(os.pardir)\n",
        "from dataset.mnist import load_mnist"
      ],
      "execution_count": 76,
      "outputs": []
    },
    {
      "cell_type": "code",
      "metadata": {
        "colab": {
          "base_uri": "https://localhost:8080/"
        },
        "id": "bpV2tu4Pz8UV",
        "outputId": "2d6eff66-b7d6-4e1f-bc2e-d93b47ea4dbf"
      },
      "source": [
        "(x_train, t_train), (x_test, t_tset) = load_mnist(flatten = True, normalize = False)"
      ],
      "execution_count": 77,
      "outputs": [
        {
          "output_type": "stream",
          "text": [
            "Downloading train-images-idx3-ubyte.gz ... \n",
            "Done\n",
            "Downloading train-labels-idx1-ubyte.gz ... \n",
            "Done\n",
            "Downloading t10k-images-idx3-ubyte.gz ... \n",
            "Done\n",
            "Downloading t10k-labels-idx1-ubyte.gz ... \n",
            "Done\n",
            "Converting train-images-idx3-ubyte.gz to NumPy Array ...\n",
            "Done\n",
            "Converting train-labels-idx1-ubyte.gz to NumPy Array ...\n",
            "Done\n",
            "Converting t10k-images-idx3-ubyte.gz to NumPy Array ...\n",
            "Done\n",
            "Converting t10k-labels-idx1-ubyte.gz to NumPy Array ...\n",
            "Done\n",
            "Creating pickle file ...\n",
            "Done!\n"
          ],
          "name": "stdout"
        }
      ]
    },
    {
      "cell_type": "code",
      "metadata": {
        "colab": {
          "base_uri": "https://localhost:8080/"
        },
        "id": "uBOsNPbb0TT6",
        "outputId": "0da1703a-4e72-4031-e686-a64ea0b21f2d"
      },
      "source": [
        "print(x_train.shape)"
      ],
      "execution_count": 78,
      "outputs": [
        {
          "output_type": "stream",
          "text": [
            "(60000, 784)\n"
          ],
          "name": "stdout"
        }
      ]
    },
    {
      "cell_type": "code",
      "metadata": {
        "colab": {
          "base_uri": "https://localhost:8080/"
        },
        "id": "bxW74ehV1fUZ",
        "outputId": "16547b72-1dd6-4ba7-c64a-9cd8925fe58a"
      },
      "source": [
        "print(t_train.shape)"
      ],
      "execution_count": 79,
      "outputs": [
        {
          "output_type": "stream",
          "text": [
            "(60000,)\n"
          ],
          "name": "stdout"
        }
      ]
    },
    {
      "cell_type": "code",
      "metadata": {
        "colab": {
          "base_uri": "https://localhost:8080/"
        },
        "id": "OXHeq9f51hQm",
        "outputId": "88cddd92-7809-4091-f5f3-0787932fd011"
      },
      "source": [
        "print(x_test.shape)"
      ],
      "execution_count": 80,
      "outputs": [
        {
          "output_type": "stream",
          "text": [
            "(10000, 784)\n"
          ],
          "name": "stdout"
        }
      ]
    },
    {
      "cell_type": "code",
      "metadata": {
        "colab": {
          "base_uri": "https://localhost:8080/"
        },
        "id": "IT4afxyq1i-L",
        "outputId": "a54fe8d8-54e7-4ea9-ef39-aeb4be503ea1"
      },
      "source": [
        "t_test = t_tset\n",
        "print(t_test.shape)"
      ],
      "execution_count": 83,
      "outputs": [
        {
          "output_type": "stream",
          "text": [
            "(10000,)\n"
          ],
          "name": "stdout"
        }
      ]
    },
    {
      "cell_type": "code",
      "metadata": {
        "id": "5PTIzSe41lkQ"
      },
      "source": [
        "import sys, os\n",
        "sys.path.append(os.pardir)\n",
        "import numpy as np\n",
        "from dataset.mnist import load_mnist\n",
        "from PIL import Image\n"
      ],
      "execution_count": 85,
      "outputs": []
    },
    {
      "cell_type": "code",
      "metadata": {
        "id": "VXjl5ks52S3L"
      },
      "source": [
        "def img_show(img):\n",
        "    pil_img = Image.fromarray(np.uint8(img))\n",
        "    pil_img.show()\n",
        "\n",
        "    "
      ],
      "execution_count": 91,
      "outputs": []
    },
    {
      "cell_type": "code",
      "metadata": {
        "id": "LQaFLoo52fCU"
      },
      "source": [
        "(x_train, t_train),  (x_test, t_test) = load_mnist(flatten = True, normalize = False)#訓練データとテストデータをそれぞれタプルで保存している"
      ],
      "execution_count": 87,
      "outputs": []
    },
    {
      "cell_type": "code",
      "metadata": {
        "colab": {
          "base_uri": "https://localhost:8080/"
        },
        "id": "vyJ35nim2sCk",
        "outputId": "9ecc8cb3-9284-49c8-b071-362649170385"
      },
      "source": [
        "img = x_train[0]\n",
        "label = t_train[0]\n",
        "print(label)"
      ],
      "execution_count": 88,
      "outputs": [
        {
          "output_type": "stream",
          "text": [
            "5\n"
          ],
          "name": "stdout"
        }
      ]
    },
    {
      "cell_type": "code",
      "metadata": {
        "colab": {
          "base_uri": "https://localhost:8080/"
        },
        "id": "OjAu687D24kp",
        "outputId": "7420afd5-1f09-40f6-8ddb-f5f8c6382084"
      },
      "source": [
        "print(img.shape)"
      ],
      "execution_count": 89,
      "outputs": [
        {
          "output_type": "stream",
          "text": [
            "(784,)\n"
          ],
          "name": "stdout"
        }
      ]
    },
    {
      "cell_type": "code",
      "metadata": {
        "colab": {
          "base_uri": "https://localhost:8080/"
        },
        "id": "8icNFS5y28Rk",
        "outputId": "a1af2fc5-63eb-4355-88c2-852480d0827a"
      },
      "source": [
        "img = img.reshape(28, 28)\n",
        "print(img.shape)\n",
        "\n",
        "img_show(img)#画像が表示されない！"
      ],
      "execution_count": 94,
      "outputs": [
        {
          "output_type": "stream",
          "text": [
            "(28, 28)\n"
          ],
          "name": "stdout"
        }
      ]
    },
    {
      "cell_type": "markdown",
      "metadata": {
        "id": "QvTgXg9q3CVP"
      },
      "source": [
        "### 3.6.2 ニューラルネットワークの推論処理\n",
        "\n",
        "<br />\n",
        "\n",
        "入力層は28*28 = 784層、出力層は0から9の数字に対応した10層"
      ]
    },
    {
      "cell_type": "code",
      "metadata": {
        "id": "9LE9x_m64HV-"
      },
      "source": [
        "def get_data():\n",
        "    (x_train, t_train), (x_test, t_test) = \\\n",
        "        load_mnist(normalize = True, flatten = True, one_hot_label = False)\n",
        "    return x_test, t_test #テストデータを返す"
      ],
      "execution_count": 100,
      "outputs": []
    },
    {
      "cell_type": "code",
      "metadata": {
        "id": "S0LiJRZP4e_9"
      },
      "source": [
        "def init_network():\n",
        "    with open(\"sample_weight.pkl\", \"rb\") as f:\n",
        "        network = pickle.load(f)\n",
        "\n",
        "    return network"
      ],
      "execution_count": 105,
      "outputs": []
    },
    {
      "cell_type": "code",
      "metadata": {
        "id": "X__PPxH94tLU"
      },
      "source": [
        "def predict(network, x):\n",
        "    W1, W2, W3 = network[\"W1\"], network[\"W2\"], network[\"W3\"]\n",
        "    b1, b2, b3 = network[\"b1\"], network[\"b2\"], network[\"b3\"]#ここでは、元のnetworkディクショナリからkeyを使ってvalueを取り出し、それらを関数内部のlocal変数として代入している\n",
        "\n",
        "    a1 = np.dot(x, W1) + b1 #0→1重みづけされた出力とバイアスの総和を格納\n",
        "    z1 = sigmoid(a1)#活性化関数で出力\n",
        "    a2 = np.dot(z1, W2) + b2#1→2\n",
        "    z2 = sigmoid(a2)\n",
        "    a3 = np.dot(z2, W3) + b3#2→3\n",
        "    y = softmax(a3)#本来出力層にsoftmaxをおく必要はないが、一応\n",
        "\n",
        "    return y"
      ],
      "execution_count": 106,
      "outputs": []
    },
    {
      "cell_type": "code",
      "metadata": {
        "id": "v3I8nO8U52OB"
      },
      "source": [
        "##### 学習済みのモデルを用いて、NNによる推論処理を行う\n",
        "\n",
        "x, t = get_data()\n",
        "network = init_network()\n",
        "\n"
      ],
      "execution_count": 107,
      "outputs": []
    },
    {
      "cell_type": "code",
      "metadata": {
        "colab": {
          "base_uri": "https://localhost:8080/"
        },
        "id": "9_QsP8De7dgk",
        "outputId": "e8e244d7-664f-4885-da6a-c12bda1617ed"
      },
      "source": [
        "print(len(x))\n",
        "print(len(t))\n"
      ],
      "execution_count": 115,
      "outputs": [
        {
          "output_type": "stream",
          "text": [
            "10000\n",
            "10000\n"
          ],
          "name": "stdout"
        }
      ]
    },
    {
      "cell_type": "code",
      "metadata": {
        "colab": {
          "base_uri": "https://localhost:8080/"
        },
        "id": "MS6B7Gtt8RJd",
        "outputId": "05af3ce0-e50f-4650-8d3e-2c8065519028"
      },
      "source": [
        "k = predict(network, x[12])\n",
        "print(k)#確率が出力されている"
      ],
      "execution_count": 117,
      "outputs": [
        {
          "output_type": "stream",
          "text": [
            "[1.9399713e-05 9.9420913e-06 6.3759464e-05 5.2130606e-04 1.7703691e-02\n",
            " 3.5293537e-04 6.0706952e-06 1.5150991e-02 9.9095097e-04 9.6518099e-01]\n"
          ],
          "name": "stdout"
        }
      ]
    },
    {
      "cell_type": "code",
      "metadata": {
        "colab": {
          "base_uri": "https://localhost:8080/"
        },
        "id": "v0WhMYSY8aOb",
        "outputId": "6614951d-a121-4ea0-e524-92b1c01009ff"
      },
      "source": [
        "probable = np.argmax(k)\n",
        "print(probable)"
      ],
      "execution_count": 119,
      "outputs": [
        {
          "output_type": "stream",
          "text": [
            "9\n"
          ],
          "name": "stdout"
        }
      ]
    },
    {
      "cell_type": "code",
      "metadata": {
        "colab": {
          "base_uri": "https://localhost:8080/"
        },
        "id": "dFPYkr2A7KrA",
        "outputId": "87d68ce9-7e96-4664-90c0-ff336367443b"
      },
      "source": [
        "\n",
        "#初期設定、正解数のカウント\n",
        "accuracy_cnt = 0\n",
        "for i in range(len(x)):\n",
        "    y = predict(network, x[i]) #当てはめて予測\n",
        "    p = np.argmax(y)#予測された各ラベルに対する確率の中で、最も高いものインデックスをpに格納。なおインデックスとラベルが対応していると考えて良さそう\n",
        "\n",
        "    if p == t[i]:#最も確率が高いラベルのインデックスが、教師データの中身と\n",
        "        accuracy_cnt += 1\n",
        "\n",
        "print(\"Accuracy:\" + str(float(accuracy_cnt)/len(x)))#93%の精度"
      ],
      "execution_count": 120,
      "outputs": [
        {
          "output_type": "stream",
          "text": [
            "Accuracy:0.9352\n"
          ],
          "name": "stdout"
        }
      ]
    },
    {
      "cell_type": "markdown",
      "metadata": {
        "id": "j48fiy5881BC"
      },
      "source": [
        "### 3.6.3 バッチ処理\n",
        "\n",
        "\n"
      ]
    },
    {
      "cell_type": "code",
      "metadata": {
        "id": "usu_FWO69XSL"
      },
      "source": [
        "x, _ = get_data()\n",
        "network = init_network()\n",
        "W1, W2, W3 = network[\"W1\"], network[\"W2\"], network[\"W3\"]\n"
      ],
      "execution_count": 121,
      "outputs": []
    },
    {
      "cell_type": "code",
      "metadata": {
        "colab": {
          "base_uri": "https://localhost:8080/"
        },
        "id": "qMZMlaEj9iif",
        "outputId": "ba1e38cd-9a0b-4de4-e784-eed110130261"
      },
      "source": [
        "x.shape"
      ],
      "execution_count": 123,
      "outputs": [
        {
          "output_type": "execute_result",
          "data": {
            "text/plain": [
              "(10000, 784)"
            ]
          },
          "metadata": {
            "tags": []
          },
          "execution_count": 123
        }
      ]
    },
    {
      "cell_type": "code",
      "metadata": {
        "colab": {
          "base_uri": "https://localhost:8080/"
        },
        "id": "aQFDg9Cb9kHH",
        "outputId": "b2fa1132-8797-4052-a837-7f8d918650b4"
      },
      "source": [
        "x[0].shape#10000×784行列を上からスライスしているイメージ"
      ],
      "execution_count": 124,
      "outputs": [
        {
          "output_type": "execute_result",
          "data": {
            "text/plain": [
              "(784,)"
            ]
          },
          "metadata": {
            "tags": []
          },
          "execution_count": 124
        }
      ]
    },
    {
      "cell_type": "code",
      "metadata": {
        "colab": {
          "base_uri": "https://localhost:8080/"
        },
        "id": "8mD1Obpf9qA0",
        "outputId": "5380bb87-3e0c-4614-972f-4b9c1c50e93b"
      },
      "source": [
        "W1.shape"
      ],
      "execution_count": 125,
      "outputs": [
        {
          "output_type": "execute_result",
          "data": {
            "text/plain": [
              "(784, 50)"
            ]
          },
          "metadata": {
            "tags": []
          },
          "execution_count": 125
        }
      ]
    },
    {
      "cell_type": "code",
      "metadata": {
        "colab": {
          "base_uri": "https://localhost:8080/"
        },
        "id": "edrEh9Ap9yi3",
        "outputId": "da1bc7e3-e18f-4bf2-ca58-5703e20fb541"
      },
      "source": [
        "W2.shape"
      ],
      "execution_count": 126,
      "outputs": [
        {
          "output_type": "execute_result",
          "data": {
            "text/plain": [
              "(50, 100)"
            ]
          },
          "metadata": {
            "tags": []
          },
          "execution_count": 126
        }
      ]
    },
    {
      "cell_type": "code",
      "metadata": {
        "colab": {
          "base_uri": "https://localhost:8080/"
        },
        "id": "yoCTUHcP90XN",
        "outputId": "0bd84020-a190-4e89-b068-8e361ad2c29b"
      },
      "source": [
        "W3.shape"
      ],
      "execution_count": 127,
      "outputs": [
        {
          "output_type": "execute_result",
          "data": {
            "text/plain": [
              "(100, 10)"
            ]
          },
          "metadata": {
            "tags": []
          },
          "execution_count": 127
        }
      ]
    },
    {
      "cell_type": "markdown",
      "metadata": {
        "id": "3jYSHo0L91Y2"
      },
      "source": [
        "##### バッチ\n",
        "\n",
        "<br />\n",
        "\n",
        " Xのような、まとまりのある入力データをバッチ(batch)と呼ぶ。束的な。"
      ]
    },
    {
      "cell_type": "code",
      "metadata": {
        "colab": {
          "base_uri": "https://localhost:8080/"
        },
        "id": "BYvlmCVP_2RB",
        "outputId": "442275ff-61b8-4d02-9e1e-7fc41ca06903"
      },
      "source": [
        "# バッチ処理によるNNの実装\n",
        "\n",
        "x, t = get_data()\n",
        "network = init_network()\n",
        "\n",
        "batch_size  = 100#バッチの数\n",
        "accuracy_cnt = 0#初期化\n",
        "\n",
        "for i in range(0, len(x), batch_size):#stepサイズがbatch_sizeとイコールになるので、batchごとに処理を行うということか？iは0,から100ごとに飛んでいる ,,,,,(正確にbatch_sizeごとに増加している)\n",
        "    x_batch = x[i:i + batch_size]#0から100, 100から200, 200から300, 300から400, 400から~という感じ\n",
        "    y_batch = predict(network, x_batch)\n",
        "    p = np.argmax(y_batch, axis = 1)\n",
        "    accuracy_cnt += np.sum(p == t[i:i+batch_size])#batchのグループごとに正解している数をブーリアンのnumpy配列として作成し、その値を合計した分だけaccuracy_cntを増加させる\n",
        "\n",
        "print(\"Accuracy:\" + str(float(accuracy_cnt)/len(x)))#最終的な正解数accuracy_cntを、xのサイズで割ることで正答率を出す\n",
        "\n",
        "\n"
      ],
      "execution_count": 128,
      "outputs": [
        {
          "output_type": "stream",
          "text": [
            "Accuracy:0.9352\n"
          ],
          "name": "stdout"
        }
      ]
    },
    {
      "cell_type": "code",
      "metadata": {
        "id": "vGvVpKRNBp7p"
      },
      "source": [
        ""
      ],
      "execution_count": null,
      "outputs": []
    }
  ]
}
{
  "nbformat": 4,
  "nbformat_minor": 0,
  "metadata": {
    "colab": {
      "name": "deep_from_scratch_ch2_perceptron.ipynb",
      "provenance": [],
      "collapsed_sections": [],
      "authorship_tag": "ABX9TyNcYvIPqXs2SsbQGqJY/mbf",
      "include_colab_link": true
    },
    "kernelspec": {
      "name": "python3",
      "display_name": "Python 3"
    },
    "language_info": {
      "name": "python"
    }
  },
  "cells": [
    {
      "cell_type": "markdown",
      "metadata": {
        "id": "view-in-github",
        "colab_type": "text"
      },
      "source": [
        "<a href=\"https://colab.research.google.com/github/jinInoue-rrr/from_scratch/blob/main/deep_from_scratch_ch2_perceptron.ipynb\" target=\"_parent\"><img src=\"https://colab.research.google.com/assets/colab-badge.svg\" alt=\"Open In Colab\"/></a>"
      ]
    },
    {
      "cell_type": "markdown",
      "metadata": {
        "id": "4j0srRlyp-c7"
      },
      "source": [
        "# 第2章 パーセプトロン\n",
        "\n",
        "## 2.1パーセプトロンとは\n",
        "\n",
        "複数の信号を入力として受け取り、一つの信号を出力する\n",
        "二値変数をとる（1, 0）\n",
        "\n",
        "\n"
      ]
    },
    {
      "cell_type": "markdown",
      "metadata": {
        "id": "Mv1fJGfE-62_"
      },
      "source": [
        "先の論理回路を実装する\n"
      ]
    },
    {
      "cell_type": "code",
      "metadata": {
        "id": "927I0kIyBYEW"
      },
      "source": [
        "# 関数として定義する\n",
        "#パラメータのw1, w2, thetaは関数内で初期化する\n",
        "def AND(x1, x2):\n",
        "    w1, w2, theta = 0.5, 0.5, 0.7\n",
        "    tmp = x1 * w1 + x2 * w2\n",
        "    if tmp <= theta:\n",
        "        return 0\n",
        "    elif tmp > theta:\n",
        "        return 1"
      ],
      "execution_count": 2,
      "outputs": []
    },
    {
      "cell_type": "code",
      "metadata": {
        "colab": {
          "base_uri": "https://localhost:8080/"
        },
        "id": "LzXbuGPpCLRv",
        "outputId": "5d6c3c8b-202a-4db8-8740-2a20c722d719"
      },
      "source": [
        "AND(0, 0)"
      ],
      "execution_count": 3,
      "outputs": [
        {
          "output_type": "execute_result",
          "data": {
            "text/plain": [
              "0"
            ]
          },
          "metadata": {
            "tags": []
          },
          "execution_count": 3
        }
      ]
    },
    {
      "cell_type": "code",
      "metadata": {
        "colab": {
          "base_uri": "https://localhost:8080/"
        },
        "id": "Tl9rlEOWCNH2",
        "outputId": "6ffa530c-8e0e-41d1-eb9c-6d5a1608f883"
      },
      "source": [
        "AND(1, 0)\n"
      ],
      "execution_count": 4,
      "outputs": [
        {
          "output_type": "execute_result",
          "data": {
            "text/plain": [
              "0"
            ]
          },
          "metadata": {
            "tags": []
          },
          "execution_count": 4
        }
      ]
    },
    {
      "cell_type": "code",
      "metadata": {
        "colab": {
          "base_uri": "https://localhost:8080/"
        },
        "id": "K90_BsRyCOkO",
        "outputId": "ace78bc3-f1f8-4ee9-f81a-8794713041ae"
      },
      "source": [
        "AND(1, 1)"
      ],
      "execution_count": 5,
      "outputs": [
        {
          "output_type": "execute_result",
          "data": {
            "text/plain": [
              "1"
            ]
          },
          "metadata": {
            "tags": []
          },
          "execution_count": 5
        }
      ]
    },
    {
      "cell_type": "code",
      "metadata": {
        "colab": {
          "base_uri": "https://localhost:8080/"
        },
        "id": "n23Mvxe1CQaL",
        "outputId": "eb7416fa-4a4c-46d9-e8fc-17008888052d"
      },
      "source": [
        "AND(0, 1)"
      ],
      "execution_count": 6,
      "outputs": [
        {
          "output_type": "execute_result",
          "data": {
            "text/plain": [
              "0"
            ]
          },
          "metadata": {
            "tags": []
          },
          "execution_count": 6
        }
      ]
    },
    {
      "cell_type": "markdown",
      "metadata": {
        "id": "dWcI6CyvCYcN"
      },
      "source": [
        "### 2.3.2 重みとバイアスの導入\n",
        "\n",
        "* バイアス：いわゆる一次式の切片\n",
        "\n",
        "* 重み：パラメータのこと？\n",
        "\n"
      ]
    },
    {
      "cell_type": "code",
      "metadata": {
        "id": "ixFTCCesCs-t"
      },
      "source": [
        "## NumPyで実装する\n",
        "\n",
        "import numpy as np\n",
        "\n",
        "x = np.array([0, 1])#入力\n",
        "w = np.array([0.5, 0.5])#重み\n",
        "b = -0.7#バイアス"
      ],
      "execution_count": 7,
      "outputs": []
    },
    {
      "cell_type": "code",
      "metadata": {
        "colab": {
          "base_uri": "https://localhost:8080/"
        },
        "id": "y-LAEGaAC9y1",
        "outputId": "2e0f5d31-1ab2-4930-f272-ced370981d60"
      },
      "source": [
        "w * x"
      ],
      "execution_count": 8,
      "outputs": [
        {
          "output_type": "execute_result",
          "data": {
            "text/plain": [
              "array([0. , 0.5])"
            ]
          },
          "metadata": {
            "tags": []
          },
          "execution_count": 8
        }
      ]
    },
    {
      "cell_type": "code",
      "metadata": {
        "colab": {
          "base_uri": "https://localhost:8080/"
        },
        "id": "l_Bq9G1jDAq0",
        "outputId": "89f55fb2-a62b-4e17-a5fb-6ea3d3918c5c"
      },
      "source": [
        "np.sum(w*x)"
      ],
      "execution_count": 9,
      "outputs": [
        {
          "output_type": "execute_result",
          "data": {
            "text/plain": [
              "0.5"
            ]
          },
          "metadata": {
            "tags": []
          },
          "execution_count": 9
        }
      ]
    },
    {
      "cell_type": "code",
      "metadata": {
        "colab": {
          "base_uri": "https://localhost:8080/"
        },
        "id": "K6dLhNeZDIhE",
        "outputId": "9455122d-ba11-4e02-9ab2-f1892bdffdfb"
      },
      "source": [
        "np.sum(w*x) + b #浮動小数点による計算誤差が含まれる"
      ],
      "execution_count": 10,
      "outputs": [
        {
          "output_type": "execute_result",
          "data": {
            "text/plain": [
              "-0.19999999999999996"
            ]
          },
          "metadata": {
            "tags": []
          },
          "execution_count": 10
        }
      ]
    },
    {
      "cell_type": "markdown",
      "metadata": {
        "id": "tQ6hrBS-DMV6"
      },
      "source": [
        "#### numpyの計算について\n",
        "\n",
        "<br />\n",
        "\n",
        "array同士の計算は内積というより、**アダマール積**なので、w*x = ( w1 * x1, w2 * x2)となる。\n",
        "\n",
        "要素間の合計、つまり線形一次式の形にしてやるには、**np.sum**で和をとる必要がある"
      ]
    },
    {
      "cell_type": "code",
      "metadata": {
        "id": "9dAjXkUuD2Gi"
      },
      "source": [
        "### 重みとバイアスによる実装\n",
        "\n",
        "def AND(x1, x2):\n",
        "    x = np.array([x1, x2])\n",
        "    w = np.array([0.5, 0.5])\n",
        "    b = -0.7\n",
        "    tmp  = np.sum(w*x) + b\n",
        "    if tmp <= 0:\n",
        "        return 0\n",
        "    else:\n",
        "        return 1\n"
      ],
      "execution_count": 11,
      "outputs": []
    },
    {
      "cell_type": "markdown",
      "metadata": {
        "id": "xlBI0b5SE7EV"
      },
      "source": [
        "### パラメータ（重み）とバイアスの役割\n",
        "\n",
        "<br />\n",
        "\n",
        "重みは入力信号への重要度をコントロールするパラメータとして機能する\n",
        "バイアスは発火のしやすさを調整する機能を持つ"
      ]
    },
    {
      "cell_type": "code",
      "metadata": {
        "id": "KJp42j9GFTW1"
      },
      "source": [
        "### NANDゲートとORゲートの実装\n",
        "\n",
        "def NAND(x1, x2):\n",
        "    x = np.array([x1, x2])\n",
        "    w = np.array([-0.5, -0.5]) # 重みの符号がANDゲートとは異なる\n",
        "    b = 0.7 #符号が反転している\n",
        "    tmp = np.sum(w*x) + b\n",
        "    if tmp <= 0:\n",
        "        return 0\n",
        "    else:\n",
        "      return 1"
      ],
      "execution_count": 12,
      "outputs": []
    },
    {
      "cell_type": "code",
      "metadata": {
        "id": "iMBitL8cF1A-"
      },
      "source": [
        "def OR(x1, x2):\n",
        "    x = np.array([x1, x2])\n",
        "    w = np.array([0.5, 0.5])\n",
        "    b = -0.2 #バイアスのみがANDと異なる\n",
        "    tmp = np.sum(w*x) + b\n",
        "    if tmp <= 0:\n",
        "        return 0\n",
        "    else:\n",
        "        return 1"
      ],
      "execution_count": 13,
      "outputs": []
    },
    {
      "cell_type": "code",
      "metadata": {
        "colab": {
          "base_uri": "https://localhost:8080/"
        },
        "id": "Rw8kxA6nGQAA",
        "outputId": "d660d2f9-644f-45e0-b396-f2e111784394"
      },
      "source": [
        "OR(1, 0)"
      ],
      "execution_count": 14,
      "outputs": [
        {
          "output_type": "execute_result",
          "data": {
            "text/plain": [
              "1"
            ]
          },
          "metadata": {
            "tags": []
          },
          "execution_count": 14
        }
      ]
    },
    {
      "cell_type": "code",
      "metadata": {
        "colab": {
          "base_uri": "https://localhost:8080/"
        },
        "id": "duOQ-gXbGR8j",
        "outputId": "8eccdfc9-caf4-407b-b57d-38226a62e7b6"
      },
      "source": [
        " OR(1, 1)"
      ],
      "execution_count": 15,
      "outputs": [
        {
          "output_type": "execute_result",
          "data": {
            "text/plain": [
              "1"
            ]
          },
          "metadata": {
            "tags": []
          },
          "execution_count": 15
        }
      ]
    },
    {
      "cell_type": "code",
      "metadata": {
        "colab": {
          "base_uri": "https://localhost:8080/"
        },
        "id": "0kWdzyDCGTJ2",
        "outputId": "6ea8bc5e-a865-4a86-cf2b-653398ca3772"
      },
      "source": [
        "OR(0, 1)"
      ],
      "execution_count": 16,
      "outputs": [
        {
          "output_type": "execute_result",
          "data": {
            "text/plain": [
              "1"
            ]
          },
          "metadata": {
            "tags": []
          },
          "execution_count": 16
        }
      ]
    },
    {
      "cell_type": "code",
      "metadata": {
        "colab": {
          "base_uri": "https://localhost:8080/"
        },
        "id": "6dMeP0WBGUW5",
        "outputId": "8de65fb3-28b5-4aac-8db3-0dcc01fe0147"
      },
      "source": [
        "OR(0, 0)"
      ],
      "execution_count": 17,
      "outputs": [
        {
          "output_type": "execute_result",
          "data": {
            "text/plain": [
              "0"
            ]
          },
          "metadata": {
            "tags": []
          },
          "execution_count": 17
        }
      ]
    },
    {
      "cell_type": "markdown",
      "metadata": {
        "id": "0C0leg1yGVW7"
      },
      "source": [
        "## 2.4 パーセプトロンの限界\n",
        "\n",
        "### 2.4.1 XORゲート(排他的論理和)\n",
        "\n"
      ]
    },
    {
      "cell_type": "markdown",
      "metadata": {
        "id": "4rhkc2voGfpb"
      },
      "source": [
        "### 2.4.2 線形と非線形\n",
        "\n",
        "<br />\n",
        "\n",
        "XORゲート(x1, x2, outcome) = (1, 1, 0), (1, 0, 1), (0, 1, 1), (0, 0, 0)\n"
      ]
    },
    {
      "cell_type": "markdown",
      "metadata": {
        "id": "7nmz_zNSH4Xb"
      },
      "source": [
        "## 2.5 多層パーセプトロン\n",
        "\n",
        "<br />\n",
        "\n",
        "パーセプトロン単層ではXORゲートを実装することはできないが、層を組みあわせることで実現することができる！\n",
        "\n",
        "### 2.5.1 既存ゲートの組み合わせ\n",
        "\n",
        "<br />\n",
        "\n",
        "AND, NAND, ORを組み合わせて、XORゲートを作る\n",
        "\n",
        "\n"
      ]
    },
    {
      "cell_type": "markdown",
      "metadata": {
        "id": "HjxiR-M9IJbE"
      },
      "source": [
        "### 2.5.2 XORゲートを実装する"
      ]
    },
    {
      "cell_type": "code",
      "metadata": {
        "id": "Nr2QGV9JLSGh"
      },
      "source": [
        "def XOR(x1, x2):\n",
        "    s1 = NAND(x1, x2)\n",
        "    s2 = OR(x1, x2)\n",
        "    y = AND(s1, s2)\n",
        "    return y"
      ],
      "execution_count": 23,
      "outputs": []
    },
    {
      "cell_type": "code",
      "metadata": {
        "colab": {
          "base_uri": "https://localhost:8080/"
        },
        "id": "WI-tDWlbLgIq",
        "outputId": "d15a3f29-b331-4373-d356-26b1ab8d978e"
      },
      "source": [
        "XOR(1, 1)"
      ],
      "execution_count": 24,
      "outputs": [
        {
          "output_type": "execute_result",
          "data": {
            "text/plain": [
              "0"
            ]
          },
          "metadata": {
            "tags": []
          },
          "execution_count": 24
        }
      ]
    },
    {
      "cell_type": "code",
      "metadata": {
        "colab": {
          "base_uri": "https://localhost:8080/"
        },
        "id": "HXbmdlceLhfd",
        "outputId": "fa5216d1-057b-4ecd-9940-a002cc23ce74"
      },
      "source": [
        "XOR(1, 0)"
      ],
      "execution_count": 25,
      "outputs": [
        {
          "output_type": "execute_result",
          "data": {
            "text/plain": [
              "1"
            ]
          },
          "metadata": {
            "tags": []
          },
          "execution_count": 25
        }
      ]
    },
    {
      "cell_type": "code",
      "metadata": {
        "colab": {
          "base_uri": "https://localhost:8080/"
        },
        "id": "YXPcoBCMLiiZ",
        "outputId": "16ed138f-85f5-4e8f-b351-e97b6cb0bc09"
      },
      "source": [
        "XOR(0, 1)"
      ],
      "execution_count": 26,
      "outputs": [
        {
          "output_type": "execute_result",
          "data": {
            "text/plain": [
              "1"
            ]
          },
          "metadata": {
            "tags": []
          },
          "execution_count": 26
        }
      ]
    },
    {
      "cell_type": "code",
      "metadata": {
        "colab": {
          "base_uri": "https://localhost:8080/"
        },
        "id": "ROEy4DNILjgs",
        "outputId": "7ebe1a1e-678f-46bc-8035-ef3ff307aaf1"
      },
      "source": [
        "XOR(0, 0)"
      ],
      "execution_count": 27,
      "outputs": [
        {
          "output_type": "execute_result",
          "data": {
            "text/plain": [
              "0"
            ]
          },
          "metadata": {
            "tags": []
          },
          "execution_count": 27
        }
      ]
    },
    {
      "cell_type": "code",
      "metadata": {
        "id": "6oNKjWGKLk6Z"
      },
      "source": [
        ""
      ],
      "execution_count": null,
      "outputs": []
    }
  ]
}
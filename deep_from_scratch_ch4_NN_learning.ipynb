{
  "nbformat": 4,
  "nbformat_minor": 0,
  "metadata": {
    "colab": {
      "name": "deep_from_scratch_ch4_NN_learning.ipynb",
      "provenance": [],
      "collapsed_sections": [],
      "authorship_tag": "ABX9TyP3IySmbxqF5Qi4Rr40iza5",
      "include_colab_link": true
    },
    "kernelspec": {
      "name": "python3",
      "display_name": "Python 3"
    },
    "language_info": {
      "name": "python"
    }
  },
  "cells": [
    {
      "cell_type": "markdown",
      "metadata": {
        "id": "view-in-github",
        "colab_type": "text"
      },
      "source": [
        "<a href=\"https://colab.research.google.com/github/jinInoue-rrr/from_scratch/blob/main/deep_from_scratch_ch4_NN_learning.ipynb\" target=\"_parent\"><img src=\"https://colab.research.google.com/assets/colab-badge.svg\" alt=\"Open In Colab\"/></a>"
      ]
    },
    {
      "cell_type": "markdown",
      "metadata": {
        "id": "W3dEUSbJe0by"
      },
      "source": [
        "# 4章　ニューラルネットワークの学習\n",
        "\n",
        "## 4.1 データから学習する\n",
        "\n",
        "<br />\n",
        "\n"
      ]
    },
    {
      "cell_type": "code",
      "metadata": {
        "colab": {
          "base_uri": "https://localhost:8080/"
        },
        "id": "H2GjXgoKt1x0",
        "outputId": "1c08d566-64c3-486d-f7cf-791284b3da7c"
      },
      "source": [
        "from google.colab import drive\n",
        "drive.mount(\"/content/drive\")\n"
      ],
      "execution_count": 1,
      "outputs": [
        {
          "output_type": "stream",
          "text": [
            "Mounted at /content/drive\n"
          ],
          "name": "stdout"
        }
      ]
    },
    {
      "cell_type": "code",
      "metadata": {
        "colab": {
          "base_uri": "https://localhost:8080/",
          "height": 35
        },
        "id": "3pF_Ju3luE0H",
        "outputId": "628f5aeb-f7a7-4e82-c1e3-c094454e22ae"
      },
      "source": [
        "import os \n",
        "os.getcwd()"
      ],
      "execution_count": 2,
      "outputs": [
        {
          "output_type": "execute_result",
          "data": {
            "application/vnd.google.colaboratory.intrinsic+json": {
              "type": "string"
            },
            "text/plain": [
              "'/content'"
            ]
          },
          "metadata": {
            "tags": []
          },
          "execution_count": 2
        }
      ]
    },
    {
      "cell_type": "code",
      "metadata": {
        "id": "qj6IfMhnuJDF"
      },
      "source": [
        "os.chdir(\"/content/drive/My Drive/deep-learning-from-scratch-master/ch04\")"
      ],
      "execution_count": 3,
      "outputs": []
    },
    {
      "cell_type": "code",
      "metadata": {
        "colab": {
          "base_uri": "https://localhost:8080/",
          "height": 35
        },
        "id": "GPTt9Hr9uONN",
        "outputId": "ce66be00-eaa4-4185-9d32-ffa9ce1e7f23"
      },
      "source": [
        "os.getcwd()"
      ],
      "execution_count": 4,
      "outputs": [
        {
          "output_type": "execute_result",
          "data": {
            "application/vnd.google.colaboratory.intrinsic+json": {
              "type": "string"
            },
            "text/plain": [
              "'/content/drive/My Drive/deep-learning-from-scratch-master/ch04'"
            ]
          },
          "metadata": {
            "tags": []
          },
          "execution_count": 4
        }
      ]
    },
    {
      "cell_type": "markdown",
      "metadata": {
        "id": "9yj4QdRfk4xx"
      },
      "source": [
        "### 4.1.2\n",
        "\n",
        "<br />\n",
        "\n",
        "モデルの汎化能力が重要。汎化能力とは、まだ見ぬデータに対する予測能力のことである。過学習を避けるためにも、訓練データとテストデータをきちんと分けることが重要。"
      ]
    },
    {
      "cell_type": "markdown",
      "metadata": {
        "id": "3UTLmKyjlT7b"
      },
      "source": [
        "## 4.2 損失関数(loss function) \n",
        "\n",
        "<br />\n",
        "\n",
        "一般には2乗和誤差や、交差エントロピー誤差などが用いられる。\n",
        "\n",
        "### 4.2.1 2乗和誤差\n",
        "\n",
        "\n"
      ]
    },
    {
      "cell_type": "code",
      "metadata": {
        "id": "4cp-d1e8n-BK"
      },
      "source": [
        "# 2乗和誤差の実装\n",
        "import numpy as np\n",
        "\n",
        "\n",
        "def sum_squared_error(y, t):\n",
        "    return 0.5 * np.sum((y-t)**2)\n",
        "\n"
      ],
      "execution_count": 5,
      "outputs": []
    },
    {
      "cell_type": "code",
      "metadata": {
        "colab": {
          "base_uri": "https://localhost:8080/"
        },
        "id": "mFtMJO5PoKxC",
        "outputId": "94fbd895-d85c-4210-a7b4-10d985849b5c"
      },
      "source": [
        "t = [0, 0, 1, 0, 0, 0, 0, 0, 0, 0]\n",
        "\n",
        "y = [0.1, 0.05, 0.6, 0.0, 0.05, 0.1, 0.0, 0.1, 0.0, 0.0]\n",
        "sum_squared_error(np.array(y), np.array(t))"
      ],
      "execution_count": 6,
      "outputs": [
        {
          "output_type": "execute_result",
          "data": {
            "text/plain": [
              "0.09750000000000003"
            ]
          },
          "metadata": {
            "tags": []
          },
          "execution_count": 6
        }
      ]
    },
    {
      "cell_type": "markdown",
      "metadata": {
        "id": "FPLubmoZovZw"
      },
      "source": [
        " ### 4.2.2 交差エントロピー誤差\n",
        "\n",
        " $E = -\\sum_k t_k log{y_k} ... (4.2)$\n",
        "\n",
        " $t_k$は正解ラベルとなるインデックスだけが1となり、それ以外は0となるone-hot表現\n",
        " 交差エントロピー誤差は、正解ラベルとなる出力の結果によって、その値が決まる。"
      ]
    },
    {
      "cell_type": "code",
      "metadata": {
        "id": "gASj2a3OpMMs"
      },
      "source": [
        "#交差エントロピー誤差の実装\n",
        "\n",
        "def cross_entropy_error(y, t):\n",
        "    delta = 1e-7\n",
        "    return -np.sum(t * np.log(y + delta)) ### deltaは微小な値であり、log(0)となってマイナス無限大の-infとならないようにしている。実装上の理由。"
      ],
      "execution_count": 7,
      "outputs": []
    },
    {
      "cell_type": "code",
      "metadata": {
        "colab": {
          "base_uri": "https://localhost:8080/"
        },
        "id": "7D1p-HSRrDt_",
        "outputId": "998d3c69-c8c0-432b-ffbb-6ea29ae7be4e"
      },
      "source": [
        "t = [0, 0, 1, 0, 0, 0, 0, 0, 0, 0]\n",
        "y = [0.1, 0.05, 0.6, 0.0, 0.05, 0.1, 0.0, 0.1, 0.0, 0.0]\n",
        "\n",
        "cross_entropy_error(np.array(y), np.array(t))"
      ],
      "execution_count": 8,
      "outputs": [
        {
          "output_type": "execute_result",
          "data": {
            "text/plain": [
              "0.510825457099338"
            ]
          },
          "metadata": {
            "tags": []
          },
          "execution_count": 8
        }
      ]
    },
    {
      "cell_type": "markdown",
      "metadata": {
        "id": "Xm8QAMRPzf9q"
      },
      "source": [
        "### 4.2.3 ミニバッチ学習\n",
        "\n",
        "<br />\n",
        "\n",
        "$E = -\\frac{1}{N}\\sum_n\\sum_k t_{nk}log{y_{nk}} ... (4.3)$ \n",
        "\n",
        "MNISTでは、訓練データだけで60000もあるため、損失関数の計算も時間がかかる。そのため、全体からサブグループをランダムに抽出して、小規模な学習を行う手法を**ミニバッチ学習**という。"
      ]
    },
    {
      "cell_type": "code",
      "metadata": {
        "id": "MHNU24NhrXpx"
      },
      "source": [
        "import sys, os\n",
        "sys.path.append(os.pardir)\n",
        "import numpy as np\n",
        "from dataset.mnist import load_mnist"
      ],
      "execution_count": 9,
      "outputs": []
    },
    {
      "cell_type": "code",
      "metadata": {
        "id": "UlKjQZH1uhe6"
      },
      "source": [
        "(x_train, t_train), (x_test, t_test) = \\\n",
        "    load_mnist(normalize = True, one_hot_label = True)"
      ],
      "execution_count": 10,
      "outputs": []
    },
    {
      "cell_type": "code",
      "metadata": {
        "colab": {
          "base_uri": "https://localhost:8080/"
        },
        "id": "kJB-9mvPuvKE",
        "outputId": "9ab2afd1-1e12-44a9-cb11-c093866323b0"
      },
      "source": [
        "print(x_train.ndim)"
      ],
      "execution_count": 11,
      "outputs": [
        {
          "output_type": "stream",
          "text": [
            "2\n"
          ],
          "name": "stdout"
        }
      ]
    },
    {
      "cell_type": "code",
      "metadata": {
        "colab": {
          "base_uri": "https://localhost:8080/"
        },
        "id": "uiBgqw6puyau",
        "outputId": "428d2156-636b-413d-d5f5-2ba27850b916"
      },
      "source": [
        "print(t_train.shape)"
      ],
      "execution_count": 12,
      "outputs": [
        {
          "output_type": "stream",
          "text": [
            "(60000, 10)\n"
          ],
          "name": "stdout"
        }
      ]
    },
    {
      "cell_type": "code",
      "metadata": {
        "id": "cAKuXRvsu1X2"
      },
      "source": [
        "train_size = x_train.shape[0]\n",
        "batch_size = 10\n",
        "batch_mask = np.random.choice(train_size, batch_size)#ランダムにインデックスを選び出す\n",
        "x_batch = x_train[batch_mask]\n",
        "t_batch = t_train[batch_mask]"
      ],
      "execution_count": 13,
      "outputs": []
    },
    {
      "cell_type": "code",
      "metadata": {
        "colab": {
          "base_uri": "https://localhost:8080/"
        },
        "id": "BlrCmgW-2PPc",
        "outputId": "3ae9e737-dfeb-410d-d933-6448491e9578"
      },
      "source": [
        "batch_mask"
      ],
      "execution_count": 14,
      "outputs": [
        {
          "output_type": "execute_result",
          "data": {
            "text/plain": [
              "array([22102, 11631, 21433, 51149, 32182, 49734, 27594, 35892, 26402,\n",
              "       13531])"
            ]
          },
          "metadata": {
            "tags": []
          },
          "execution_count": 14
        }
      ]
    },
    {
      "cell_type": "code",
      "metadata": {
        "id": "ueKPzXnb2Q8H"
      },
      "source": [
        "### 4.2.4 バッチ対応版の交差エントロピー誤差の実装\n",
        "\n",
        "def cross_entropy_error(y, t):\n",
        "    if y.ndim == 1:\n",
        "        t = t.reshape(1, t.size)\n",
        "        y = y.reshape(1, y.size)\n",
        "\n",
        "    batch_size = y.shape[0]\n",
        "    return -np.sum(t * np.log(y + 1e-7)) / batch_size"
      ],
      "execution_count": 15,
      "outputs": []
    },
    {
      "cell_type": "code",
      "metadata": {
        "id": "OnsnR8MG5H_N"
      },
      "source": [
        "#教師データがラベルとして与えられた時の、交差エントロピー誤差の実装\n",
        "\n",
        "def cross_entropy_error(y, t):\n",
        "    if y.ndim == 1:\n",
        "        t = t.reshape(1, t.size)\n",
        "        y = y.reshape(1, y.size)\n",
        "\n",
        "    batch_size = y.shape[0]\n",
        "    return -np.sum(np.log(y[np.arange(batch_size), t] + 1e-7)) / batch_size"
      ],
      "execution_count": 16,
      "outputs": []
    },
    {
      "cell_type": "markdown",
      "metadata": {
        "id": "vgyuIfXE7XcC"
      },
      "source": [
        "### 4.2.5 なぜ損失関数を設定するのか？\n",
        "\n",
        "<br />\n",
        "\n",
        "最適なパラメータの探索の際には、損失関数の値ができるだけ小さくなるようなパラメータを探す。パラメータの微分を計算し、その微分の値を手掛かりに値を更新していく。\n",
        "ある一つの重みパラメータの損失関数に関する微分は、その重みパラメータを少しだけ変化させたときに、損失関数がどのように変化するかを表している。しかし、微分が0になってしまうと、どちらの方向にも動かなくなってしまう。"
      ]
    },
    {
      "cell_type": "markdown",
      "metadata": {
        "id": "pcOQAnJM9RJu"
      },
      "source": [
        "## 4.3 \n",
        "\n",
        "### 4.3.1 微分\n",
        "\n",
        "<br />\n",
        "\n",
        "ある瞬間の変化量を指す\n",
        "\n",
        "<br />\n",
        "\n",
        "##### 数値微分(numerical differentiation)\n",
        "\n"
      ]
    },
    {
      "cell_type": "code",
      "metadata": {
        "id": "ZYhC8aqr-mma"
      },
      "source": [
        "## 悪い実装例\n",
        "\n",
        "def numerical_diff(f, x):\n",
        "    h = 1e-50#極めて小さい値\n",
        "    return (f(x+h) - f(x) ) / h"
      ],
      "execution_count": 17,
      "outputs": []
    },
    {
      "cell_type": "markdown",
      "metadata": {
        "id": "nv4bdlBA-2Gn"
      },
      "source": [
        "`1e-50`は極めて小さい値だが、これにより**丸め誤差(rounding error)**の問題が生じる"
      ]
    },
    {
      "cell_type": "code",
      "metadata": {
        "colab": {
          "base_uri": "https://localhost:8080/"
        },
        "id": "DUbgfusL_KwB",
        "outputId": "d137715e-4714-46a5-ebaf-919ced67b9c4"
      },
      "source": [
        "np.float32(1e-50)"
      ],
      "execution_count": 18,
      "outputs": [
        {
          "output_type": "execute_result",
          "data": {
            "text/plain": [
              "0.0"
            ]
          },
          "metadata": {
            "tags": []
          },
          "execution_count": 18
        }
      ]
    },
    {
      "cell_type": "code",
      "metadata": {
        "id": "yGiDRIK6_Nah"
      },
      "source": [
        "#中心差分をとったマシな実装例\n",
        "\n",
        "def numerical_diff(f, x):\n",
        "    h = 1e-4#これくらいのオーダーで十分らしい\n",
        "    return (f(x+h) - f(x-h)) / 2*h"
      ],
      "execution_count": 19,
      "outputs": []
    },
    {
      "cell_type": "markdown",
      "metadata": {
        "id": "5kEDWk5jBzei"
      },
      "source": [
        "### 4.3.2 数値微分の例\n"
      ]
    },
    {
      "cell_type": "code",
      "metadata": {
        "id": "rdOQLhVnC1pR"
      },
      "source": [
        "import numpy as np\n",
        "import matplotlib.pylab as plt"
      ],
      "execution_count": 20,
      "outputs": []
    },
    {
      "cell_type": "code",
      "metadata": {
        "colab": {
          "base_uri": "https://localhost:8080/",
          "height": 279
        },
        "id": "oT-ubVvYC68g",
        "outputId": "a2ea6e9c-c542-4520-8d31-adab060c0020"
      },
      "source": [
        "def function_1(x):\n",
        "    return 0.01 * x **2 + 0.1 * x\n",
        "x = np.arange(0.0, 20.0, 0.1)\n",
        "y = function_1(x)\n",
        "plt.xlabel(\"x\")\n",
        "plt.ylabel(\"f(x)\")\n",
        "plt.plot(x, y)\n",
        "plt.show()"
      ],
      "execution_count": 21,
      "outputs": [
        {
          "output_type": "display_data",
          "data": {
            "image/png": "[encoded data removed]",
            "text/plain": [
              "<Figure size 432x288 with 1 Axes>"
            ]
          },
          "metadata": {
            "tags": [],
            "needs_background": "light"
          }
        }
      ]
    },
    {
      "cell_type": "code",
      "metadata": {
        "colab": {
          "base_uri": "https://localhost:8080/"
        },
        "id": "lLY5O207DYnc",
        "outputId": "6532e956-c4e4-4611-e0c8-194b5281f333"
      },
      "source": [
        "numerical_diff(function_1, 5)"
      ],
      "execution_count": 22,
      "outputs": [
        {
          "output_type": "execute_result",
          "data": {
            "text/plain": [
              "1.9999999999908982e-09"
            ]
          },
          "metadata": {
            "tags": []
          },
          "execution_count": 22
        }
      ]
    },
    {
      "cell_type": "code",
      "metadata": {
        "colab": {
          "base_uri": "https://localhost:8080/"
        },
        "id": "0fzX4EGvDhbc",
        "outputId": "76f05339-54e6-46d2-e9a2-db652aa46151"
      },
      "source": [
        "numerical_diff(function_1, 10)"
      ],
      "execution_count": 23,
      "outputs": [
        {
          "output_type": "execute_result",
          "data": {
            "text/plain": [
              "2.999999999986347e-09"
            ]
          },
          "metadata": {
            "tags": []
          },
          "execution_count": 23
        }
      ]
    },
    {
      "cell_type": "markdown",
      "metadata": {
        "id": "uMrBBjfhDnG5"
      },
      "source": [
        "### 4.3.3 偏微分\n",
        "\n"
      ]
    },
    {
      "cell_type": "code",
      "metadata": {
        "id": "3FPJwZveEbTa"
      },
      "source": [
        "def function_2(x):\n",
        "    return x[0] ** 2 + x[1] ** 2#numpy配列の各要素の二乗和を計算するだけ"
      ],
      "execution_count": 24,
      "outputs": []
    },
    {
      "cell_type": "code",
      "metadata": {
        "id": "n45OcRMnFGIN"
      },
      "source": [
        "## x0 = 3, x1 = 4の時のx0に対する偏微分を求める\n",
        "\n",
        "def function_tmp1(x0):\n",
        "    return x0 * x0 + 4.0 ** 2.0#x1を4で固定して、x0についての関数として定義し直し、このx0について微分する\n",
        "\n",
        "    "
      ],
      "execution_count": 25,
      "outputs": []
    },
    {
      "cell_type": "code",
      "metadata": {
        "colab": {
          "base_uri": "https://localhost:8080/"
        },
        "id": "quePPsQOFnLE",
        "outputId": "d8245acb-a5b8-49e7-d10c-b54e928fe605"
      },
      "source": [
        "numerical_diff(function_tmp1, 3.0)"
      ],
      "execution_count": 26,
      "outputs": [
        {
          "output_type": "execute_result",
          "data": {
            "text/plain": [
              "6.000000000003781e-08"
            ]
          },
          "metadata": {
            "tags": []
          },
          "execution_count": 26
        }
      ]
    },
    {
      "cell_type": "markdown",
      "metadata": {
        "id": "fsoFVbqaFrLM"
      },
      "source": [
        "## 4.4 勾配"
      ]
    },
    {
      "cell_type": "markdown",
      "metadata": {
        "id": "942GEv26GHlm"
      },
      "source": [
        "$\\nabla f = (\\frac{\\partial f}{\\partial x_0}, \\frac{\\partial f}{\\partial x_1})$\n",
        "\n",
        "このように、それぞれの変数による偏微分をまとめたベクトルのことを勾配(gradient)という。"
      ]
    },
    {
      "cell_type": "code",
      "metadata": {
        "id": "FqxpkM7mHN2g"
      },
      "source": [
        "# 勾配の実装\n",
        "\n",
        "def numerical_gradient(f, x):\n",
        "    h = 1e-4#0.0001\n",
        "    grad = np.zeros_like(x)#xと同じ形状の配列を作成し、0で初期化する\n",
        "    #以下のfor loopはインデックス番号と変数の種類が対応している\n",
        "    for idx in range(x.size):#rangeは0からx.size-1の番号まで。\n",
        "        tmp_val = x[idx]#現在の値\n",
        "        #f(x + h)の計算\n",
        "        x[idx] = tmp_val + h#xからidxのインデックスの中身を取り出して、hを足して元に戻しているだけ\n",
        "        fxh1 = f(x)\n",
        "\n",
        "        #f(x - h)の計算\n",
        "        x[idx] = tmp_val - h\n",
        "        fxh2 = f(x)\n",
        "\n",
        "        grad[idx] = (fxh1 - fxh2 ) / (2*h)\n",
        "        x[idx] = tmp_val#元に戻す\n",
        "\n",
        "    return grad"
      ],
      "execution_count": 27,
      "outputs": []
    },
    {
      "cell_type": "code",
      "metadata": {
        "colab": {
          "base_uri": "https://localhost:8080/"
        },
        "id": "Amld5FGvJUyH",
        "outputId": "f86a9d77-2795-449d-afed-3cb4f1c44c87"
      },
      "source": [
        "numerical_gradient(function_2, np.array([3.0, 4.0]))"
      ],
      "execution_count": 28,
      "outputs": [
        {
          "output_type": "execute_result",
          "data": {
            "text/plain": [
              "array([6., 8.])"
            ]
          },
          "metadata": {
            "tags": []
          },
          "execution_count": 28
        }
      ]
    },
    {
      "cell_type": "markdown",
      "metadata": {
        "id": "cPvxxrSSKcLU"
      },
      "source": [
        "### 勾配の性質\n",
        "\n",
        "<br />\n",
        "\n",
        "勾配が示す方向は、各地点において関数の値を最も減らす方向を指し示している点が重要\n",
        "\n",
        "つまり、勾配の符号が更新の方向を定めるということ。。。。。"
      ]
    },
    {
      "cell_type": "markdown",
      "metadata": {
        "id": "vF63dLgXLPK-"
      },
      "source": [
        "### 4.4.1 勾配降下法(gradient descent method)"
      ]
    },
    {
      "cell_type": "markdown",
      "metadata": {
        "id": "fYyWkgqNs-qm"
      },
      "source": [
        "機械学習の問題の多くは、学習の際に最適なパラメータを探索する。NNもまた、同様に重みとバイアスを学習時に見つけなければいけない。\n"
      ]
    },
    {
      "cell_type": "markdown",
      "metadata": {
        "id": "zmppH-QDtm7G"
      },
      "source": [
        "### 勾配降下法（gradient descent method）\n",
        "\n"
      ]
    },
    {
      "cell_type": "code",
      "metadata": {
        "id": "6zwN4979wrGc"
      },
      "source": [
        "# 勾配降下法の実装\n",
        "\n",
        "def numerical_gradient(f, x):#xはnumpy配列を想定している\n",
        "    h = 1e-4#0.0001\n",
        "    grad = np.zeros_like(x)#xと同じ形状の配列を作成し、0で初期化する\n",
        "    #以下のfor loopはインデックス番号と変数の種類が対応している\n",
        "    for idx in range(x.size):#rangeは0からx.size-1の番号まで。\n",
        "        tmp_val = x[idx]#現在の値\n",
        "        #f(x + h)の計算\n",
        "        x[idx] = tmp_val + h#xからidxのインデックスの中身を取り出して、hを足して元に戻しているだけ\n",
        "        fxh1 = f(x)\n",
        "\n",
        "        #f(x - h)の計算\n",
        "        x[idx] = tmp_val - h\n",
        "        fxh2 = f(x)\n",
        "\n",
        "        grad[idx] = (fxh1 - fxh2 ) / (2*h)\n",
        "        x[idx] = tmp_val#元に戻す\n",
        "\n",
        "    return grad\n",
        "\n",
        "def gradient_descent(f, init_x, lr = 0.01, step_num = 100):  #lr = learning rate:学習率であり、ハイパーパラメータ\n",
        "    x = init_x\n",
        "\n",
        "    for i in range(step_num):\n",
        "        grad = numerical_gradient(f, x)#勾配を生成\n",
        "        x -= lr * grad#ハイパーパラメータと勾配の積を引く\n",
        "\n",
        "\n",
        "    return x\n",
        "\n",
        "\n",
        "  #fは最適化したい関数、init_xは初期値、lrは学習率、step_numは勾配法による繰り返しの回数のこと\n",
        "\n",
        "  \n",
        "\n",
        "\n",
        "\n",
        "\n",
        "\n"
      ],
      "execution_count": 29,
      "outputs": []
    },
    {
      "cell_type": "markdown",
      "metadata": {
        "id": "OIKZVcyEzQl2"
      },
      "source": [
        "###### この関数を使うことによって、関数の極小値を得ることができる。うまくいけば最小値を求めることもできる\n"
      ]
    },
    {
      "cell_type": "code",
      "metadata": {
        "id": "PBkW-wvKzkO0"
      },
      "source": [
        "def function_2(x):\n",
        "    return x[0]**2 + x[1]**2"
      ],
      "execution_count": 31,
      "outputs": []
    },
    {
      "cell_type": "code",
      "metadata": {
        "id": "T30w9_COz76B"
      },
      "source": [
        "init_x = np.array([-3.0, 4.0])#適当な初期値からスタートして、探索することによって極小値を得ている。"
      ],
      "execution_count": 34,
      "outputs": []
    },
    {
      "cell_type": "code",
      "metadata": {
        "colab": {
          "base_uri": "https://localhost:8080/"
        },
        "id": "b875LYwa0N4V",
        "outputId": "77ed2c1d-96b2-4256-902b-73c2b19a0df5"
      },
      "source": [
        "gradient_descent(function_2, init_x = init_x, lr = 0.1, step_num = 100)#実際の最小値は(0, 0)なので、限りなく近い値を獲得することができている。\n"
      ],
      "execution_count": 35,
      "outputs": [
        {
          "output_type": "execute_result",
          "data": {
            "text/plain": [
              "array([-6.11110793e-10,  8.14814391e-10])"
            ]
          },
          "metadata": {
            "tags": []
          },
          "execution_count": 35
        }
      ]
    },
    {
      "cell_type": "code",
      "metadata": {
        "id": "ugNKxtfs0b0m"
      },
      "source": [
        "#learning rateが大きすぎても、小さすぎてもうまくいかないことの例\n",
        "\n",
        "init_x = np.array([-3.0, 4.0])"
      ],
      "execution_count": 36,
      "outputs": []
    },
    {
      "cell_type": "code",
      "metadata": {
        "colab": {
          "base_uri": "https://localhost:8080/"
        },
        "id": "U7kycN2H1Ec2",
        "outputId": "17ba7ffa-9e5f-459f-c340-e574ff2e3b99"
      },
      "source": [
        "gradient_descent(function_2, init_x = init_x, lr = 10.0, step_num = 100)#学習率が大きすぎると発散してしまう"
      ],
      "execution_count": 38,
      "outputs": [
        {
          "output_type": "execute_result",
          "data": {
            "text/plain": [
              "array([-2.58983747e+13, -1.29524862e+12])"
            ]
          },
          "metadata": {
            "tags": []
          },
          "execution_count": 38
        }
      ]
    },
    {
      "cell_type": "code",
      "metadata": {
        "id": "qYWD3yqQ1cfH"
      },
      "source": [
        "#learning rateが小さすぎるとどうなるか\n",
        "\n",
        "init_x = np.array([-3.0, 4.0])"
      ],
      "execution_count": 39,
      "outputs": []
    },
    {
      "cell_type": "code",
      "metadata": {
        "colab": {
          "base_uri": "https://localhost:8080/"
        },
        "id": "UBF72O5B11PQ",
        "outputId": "6b45c99b-3975-4239-d7c7-d73bdbe4dc30"
      },
      "source": [
        "gradient_descent(function_2, init_x = init_x, lr = 1e-10, step_num = 100)#ほとんど初期値から進まないのでこれだと意味がない"
      ],
      "execution_count": 40,
      "outputs": [
        {
          "output_type": "execute_result",
          "data": {
            "text/plain": [
              "array([-2.99999994,  3.99999992])"
            ]
          },
          "metadata": {
            "tags": []
          },
          "execution_count": 40
        }
      ]
    },
    {
      "cell_type": "code",
      "metadata": {
        "colab": {
          "base_uri": "https://localhost:8080/"
        },
        "id": "EoPMb44n1-j0",
        "outputId": "8d11fee9-71dd-4529-c0f0-2bbccaf28dfd"
      },
      "source": [
        "#実行回数増やすとどうなるか\n",
        "\n",
        "gradient_descent(function_2, init_x = init_x, lr = 1e-10, step_num = 1000)#10倍程度じゃ変わらないけど、かといって増やしすぎると学習に時間がかかるためバランスがむずかしい。多分普通は交差検証とかで決めるんだと思う。\n"
      ],
      "execution_count": 44,
      "outputs": [
        {
          "output_type": "execute_result",
          "data": {
            "text/plain": [
              "array([-2.99927121,  3.99916161])"
            ]
          },
          "metadata": {
            "tags": []
          },
          "execution_count": 44
        }
      ]
    },
    {
      "cell_type": "markdown",
      "metadata": {
        "id": "HN2jJJ9v2R-A"
      },
      "source": [
        "## 4.4.2 ニューラルネットワークに対する勾配\n",
        "\n",
        "<br />\n",
        "\n",
        "重みパラメータに関する、損失関数の勾配を求める！"
      ]
    },
    {
      "cell_type": "code",
      "metadata": {
        "id": "tg3Splsu3WjW"
      },
      "source": [
        "# importする\n",
        "\n",
        "import sys, os\n",
        "sys.path.append(os.pardir)\n",
        "import numpy as np\n",
        "from common.functions import softmax, cross_entropy_error\n",
        "from common.gradient import numerical_gradient"
      ],
      "execution_count": 45,
      "outputs": []
    },
    {
      "cell_type": "code",
      "metadata": {
        "id": "DdS99ebK3rFg"
      },
      "source": [
        "#simpleNet というクラスを実装する\n",
        "\n",
        "class simpleNet:\n",
        "      def __init__(self):\n",
        "          self.W = np.random.randn(2, 3)\n",
        "      \n",
        "      def predict(self, x):\n",
        "          return np.dot(x, self.W)\n",
        "\n",
        "      def loss(self, x, t):\n",
        "            z = self.predict(x)\n",
        "            y = softmax(z)\n",
        "            loss = cross_entropy_error(y, t)\n",
        "\n",
        "            return loss\n"
      ],
      "execution_count": 46,
      "outputs": []
    },
    {
      "cell_type": "code",
      "metadata": {
        "colab": {
          "base_uri": "https://localhost:8080/"
        },
        "id": "Z36OJUEv45gJ",
        "outputId": "288a101a-54f3-4965-8253-539a49382fb4"
      },
      "source": [
        "#試しに使ってみる\n",
        "\n",
        "net = simpleNet()\n",
        "print(net.W)#この段階だと、重みパラメータはガウス分布からランダムに生成された初期値が表示されている"
      ],
      "execution_count": 47,
      "outputs": [
        {
          "output_type": "stream",
          "text": [
            "[[-0.63142721 -1.26191328 -0.28376783]\n",
            " [-0.15424325 -1.07259063  0.53311632]]\n"
          ],
          "name": "stdout"
        }
      ]
    },
    {
      "cell_type": "code",
      "metadata": {
        "colab": {
          "base_uri": "https://localhost:8080/"
        },
        "id": "9_V3O2SH5jQt",
        "outputId": "86041bac-6770-4a19-fed9-f236336c5735"
      },
      "source": [
        "x = np.array([0.6, 0.9])\n",
        "p = net.predict(x)\n",
        "print(p)"
      ],
      "execution_count": 48,
      "outputs": [
        {
          "output_type": "stream",
          "text": [
            "[-0.51767525 -1.72247954  0.30954399]\n"
          ],
          "name": "stdout"
        }
      ]
    },
    {
      "cell_type": "code",
      "metadata": {
        "colab": {
          "base_uri": "https://localhost:8080/"
        },
        "id": "LHczWPFT58v8",
        "outputId": "9eb7a3ca-cfcc-4140-d9f8-ee6bc7c155ab"
      },
      "source": [
        "np.argmax(p)"
      ],
      "execution_count": 49,
      "outputs": [
        {
          "output_type": "execute_result",
          "data": {
            "text/plain": [
              "2"
            ]
          },
          "metadata": {
            "tags": []
          },
          "execution_count": 49
        }
      ]
    },
    {
      "cell_type": "code",
      "metadata": {
        "colab": {
          "base_uri": "https://localhost:8080/"
        },
        "id": "s7ore_ZB6Jmm",
        "outputId": "bd4da9e0-2604-4736-88dd-16b6cf6ee9b8"
      },
      "source": [
        "t = np.array([0, 0, 1])#正解のラベル\n",
        "net.loss(x, t)"
      ],
      "execution_count": 50,
      "outputs": [
        {
          "output_type": "execute_result",
          "data": {
            "text/plain": [
              "0.4500134650338166"
            ]
          },
          "metadata": {
            "tags": []
          },
          "execution_count": 50
        }
      ]
    },
    {
      "cell_type": "code",
      "metadata": {
        "id": "N3fs-FnD6bIT"
      },
      "source": [
        "#NNの損失関数の勾配を求める\n",
        "\n",
        "def f(W):\n",
        "    return net.loss(x, t)\n"
      ],
      "execution_count": 52,
      "outputs": []
    },
    {
      "cell_type": "code",
      "metadata": {
        "colab": {
          "base_uri": "https://localhost:8080/"
        },
        "id": "7EjtdnKt7HOD",
        "outputId": "5221da52-33d5-4952-a539-e52b4bd43969"
      },
      "source": [
        "net.W"
      ],
      "execution_count": 53,
      "outputs": [
        {
          "output_type": "execute_result",
          "data": {
            "text/plain": [
              "array([[-0.63142721, -1.26191328, -0.28376783],\n",
              "       [-0.15424325, -1.07259063,  0.53311632]])"
            ]
          },
          "metadata": {
            "tags": []
          },
          "execution_count": 53
        }
      ]
    },
    {
      "cell_type": "code",
      "metadata": {
        "colab": {
          "base_uri": "https://localhost:8080/"
        },
        "id": "y6_huCcj6mCD",
        "outputId": "822eac3e-e2e1-43c6-a071-ad56e881e6c5"
      },
      "source": [
        "dW = numerical_gradient(f, net.W)#NNの損失関数lossについて、net.Wをパラメータの初期値として勾配降下法を用いている \n",
        "\n",
        "print(dW)#これは、例えば、二行三列の重みw23について、w23をhだけ増やすと、損失関数の値は0.32hほど小さくなるため、w23はプラスの方向に小さくした方が良い。\n",
        "#一方で、プラスの値を持っているものついては、反対の方向にパラメータの値を増やすことによって損失関数の値を減少させることができるということ"
      ],
      "execution_count": 54,
      "outputs": [
        {
          "output_type": "stream",
          "text": [
            "[[ 0.16728461  0.05014367 -0.21742829]\n",
            " [ 0.25092692  0.07521551 -0.32614243]]\n"
          ],
          "name": "stdout"
        }
      ]
    },
    {
      "cell_type": "markdown",
      "metadata": {
        "id": "U5d8K8rN7eWQ"
      },
      "source": [
        "## 4.5 学習アルゴリズムの実装\n",
        "\n",
        "<br />\n",
        "\n",
        "ここまで連続して学習が続いたので、ここで一度復習タイムに入る。\n",
        "\n",
        "### 前提\n",
        "\n",
        "<br />\n",
        "\n",
        "NNは重みとバイアスを調整する必要がある。\n",
        "これを訓練データに適応するように調整することを「学習」という。\n",
        "\n",
        "<br />\n",
        "\n",
        "#### 学習のステップ\n",
        "\n",
        "##### ステップ1：ミニバッチ\n",
        "\n",
        "<br />\n",
        "\n",
        "訓練データの中からランダムに一部のデータのグループを選び出す。そこで選ばれたデータのグループのことをミニバッチという。そして、ここではこのミニバッチの値を小さくすることが目的となる。\n",
        "\n",
        "\n",
        "##### ステップ2：勾配の算出\n",
        "\n",
        "<br />\n",
        "\n",
        "ミニバッチの損失関数を減らすために、重みパラメータの勾配を求める。勾配は損失関数の値を最も減らす方向を示している。\n",
        "\n",
        "\n",
        "##### ステップ3：パラメータの更新\n",
        "\n",
        "<br />\n",
        "\n",
        "重みパラメータを勾配方向に微少量デルタだけ更新する\n",
        "\n",
        "\n",
        "#####  ステップ4：繰り返す\n",
        "\n",
        "<br />\n",
        "\n",
        "ステップ1、2、3を繰り返す\n",
        "\n",
        "なお、ここでは使用するデータをミニバッチとして無作為にデータを抽出しているため、確率的勾配降下法(Stochastic Gradient Descent)と呼ばれる。SGD。\n",
        "\n",
        "\n"
      ]
    },
    {
      "cell_type": "markdown",
      "metadata": {
        "id": "3Li3Rm8F-FGt"
      },
      "source": [
        "### 4.5.1 二層NNのクラス\n",
        "\n",
        "<br />\n",
        "\n"
      ]
    },
    {
      "cell_type": "code",
      "metadata": {
        "id": "t1Fyfg1I-qhU"
      },
      "source": [
        "# 2層ニューラルネットワークの実装\n",
        "\n",
        "import sys, os\n",
        "sys.path.append(os.pardir)\n",
        "from common.functions import *\n",
        "from common.gradient import numerical_gradient\n",
        "\n"
      ],
      "execution_count": 55,
      "outputs": []
    },
    {
      "cell_type": "code",
      "metadata": {
        "id": "qAEnNJtK-9rG"
      },
      "source": [
        "class TwoLayerNet:\n",
        "\n",
        "    def __init__(self, input_size, hidden_size, output_size, \n",
        "                      weight_init_std = 0.01):\n",
        "          self.params = {}#空っぽのディクショナリとして初期化\n",
        "                                 #paramsは、NNのパラメータを保持するインスタンス変数\n",
        "          self.params[\"W1\"] = weight_init_std * \\\n",
        "                                        np.random.randn(input_size, hidden_size)\n",
        "          self.params[\"b1\"] = np.zeros(hidden_size)\n",
        "          self.params[\"W2\"] = weight_init_std * \\\n",
        "                                        np.random.randn(hidden_size, output_size)\n",
        "          self.params[\"b2\"] = np.zeros(output_size)\n",
        "\n",
        "\n",
        "\n",
        "          # __init__はTwoLayerNetを生成する時に呼ばれるメソッド\n",
        "          # input_sizeは入力層のニューロンの数。今回は784個ある。一つの画像につき28 * 28 = 784個の変数を用いている。\n",
        "          # hidden_sizeは隠れニューロン層の数、output_sizeは出力層のニューロンの数\n",
        "\n",
        "          # 疑問：hidden_sizeは適当なサイズを設定するらしいが、これはハイパーパラメータではないのか？\n",
        "\n",
        "          # そもそもselfが必要なのは、最低限一つ以上の変数がないと動かないからで、慣習的にselfを用いているだけ。\n",
        "          # 例えば variable = TwoLayerNet()として初期化すると、それぞれのメソッドはvariable.method()として記述する\n",
        "\n",
        "\n",
        "\n",
        "    def predict(self, x):# 認識、推論を行うメソッド。引数のxは画像データ。MNISTなら。\n",
        "          W1, W2 = self.params[\"W1\"], self.params[\"W2\"]\n",
        "          b1, b2 = self.params[\"b1\"], self.params[\"b2\"]\n",
        "\n",
        "\n",
        "          a1 = np.dot(x, W1) + b1#0層の入力を1層への出力にしている\n",
        "          z1 = sigmoid(a1)#1層の入力を2層への出力にしている\n",
        "          a2 = np.dot(z1, W2) + b2#2層への入力を3層への出力にしている\n",
        "          y = softmax(a2)#最終的な出力をソフトマックス関数にしている\n",
        "\n",
        "          return y\n",
        "\n",
        "\n",
        "    def loss(self, x, t):\n",
        "          y = self.predict(x)\n",
        "        \n",
        "          return cross_entropy_error(y, t)\n",
        "\n",
        "    def accuracy(self, x, t):\n",
        "          y = self.predict(x)\n",
        "          y = np.argmax(y, axis = 1)\n",
        "          t = np.argmax(t, axis = 1)\n",
        "\n",
        "          accuracy = np.sum(y ==  t) / float(x.shape[0])\n",
        "          return accuracy\n",
        "    \n",
        "    def numerical_gradient(self, x, t):\n",
        "          loss_W = lambda W: self.loss(x, t)\n",
        "\n",
        "          grads = {}#空のディクショナリを作成\n",
        "\n",
        "          #gradsは各層の重みとバイアスそれぞれの勾配を保持するディクショナリ変数であり、numerical_gradient()メソッドの返り値\n",
        "\n",
        "          grads[\"W1\"] = numerical_gradient(loss_W, self.params[\"W1\"])\n",
        "          grads[\"b1\"] = numerical_gradient(loss_W, self.params[\"b1\"])\n",
        "          grads[\"W2\"] = numerical_gradient(loss_W, self.params[\"W2\"])\n",
        "          grads[\"b2\"] = numerical_gradient(loss_W, self.params[\"b2\"])\n",
        "\n",
        "          return grads\n",
        "\n"
      ],
      "execution_count": 68,
      "outputs": []
    },
    {
      "cell_type": "code",
      "metadata": {
        "id": "SDFrgQdGGCVZ"
      },
      "source": [
        "#例\n",
        "net = TwoLayerNet(input_size = 784, hidden_size = 100, output_size = 10)"
      ],
      "execution_count": 71,
      "outputs": []
    },
    {
      "cell_type": "code",
      "metadata": {
        "colab": {
          "base_uri": "https://localhost:8080/"
        },
        "id": "R65RWfg6I7Yy",
        "outputId": "12915b5b-1aa1-4f5a-efaa-84041e78fdf6"
      },
      "source": [
        "net.params[\"W1\"].shape"
      ],
      "execution_count": 62,
      "outputs": [
        {
          "output_type": "execute_result",
          "data": {
            "text/plain": [
              "(784, 100)"
            ]
          },
          "metadata": {
            "tags": []
          },
          "execution_count": 62
        }
      ]
    },
    {
      "cell_type": "code",
      "metadata": {
        "colab": {
          "base_uri": "https://localhost:8080/"
        },
        "id": "HUqEpo4LI94p",
        "outputId": "46e530f9-7451-4579-90c5-d97b371fb428"
      },
      "source": [
        "net.params[\"b1\"].shape"
      ],
      "execution_count": 63,
      "outputs": [
        {
          "output_type": "execute_result",
          "data": {
            "text/plain": [
              "(100,)"
            ]
          },
          "metadata": {
            "tags": []
          },
          "execution_count": 63
        }
      ]
    },
    {
      "cell_type": "code",
      "metadata": {
        "colab": {
          "base_uri": "https://localhost:8080/"
        },
        "id": "9mK5_z3MJG3l",
        "outputId": "80735154-ed43-4c1c-895f-7f19f0b8c857"
      },
      "source": [
        "net.params[\"W2\"].shape"
      ],
      "execution_count": 64,
      "outputs": [
        {
          "output_type": "execute_result",
          "data": {
            "text/plain": [
              "(100, 10)"
            ]
          },
          "metadata": {
            "tags": []
          },
          "execution_count": 64
        }
      ]
    },
    {
      "cell_type": "code",
      "metadata": {
        "colab": {
          "base_uri": "https://localhost:8080/"
        },
        "id": "44PEoq93JLui",
        "outputId": "39024dda-a517-47dc-810b-f5faf2f2801f"
      },
      "source": [
        "net.params[\"b2\"].shape"
      ],
      "execution_count": 65,
      "outputs": [
        {
          "output_type": "execute_result",
          "data": {
            "text/plain": [
              "(10,)"
            ]
          },
          "metadata": {
            "tags": []
          },
          "execution_count": 65
        }
      ]
    },
    {
      "cell_type": "code",
      "metadata": {
        "id": "rYAFs3bJJmJQ"
      },
      "source": [
        "#適当に生成したデータで勾配を計算して出力させてみる\n",
        "\n",
        "x = np.random.rand(100, 784)\n",
        "t = np.random.rand(100, 10)"
      ],
      "execution_count": 66,
      "outputs": []
    },
    {
      "cell_type": "code",
      "metadata": {
        "id": "LoIaa5R-KCvl"
      },
      "source": [
        "grads = net.numerical_gradient(x, t)"
      ],
      "execution_count": 72,
      "outputs": []
    },
    {
      "cell_type": "code",
      "metadata": {
        "colab": {
          "base_uri": "https://localhost:8080/"
        },
        "id": "Yxr1dr2CKIBT",
        "outputId": "c1ee8999-4b15-446d-a4b7-ab02af49883b"
      },
      "source": [
        "grads[\"W1\"].shape"
      ],
      "execution_count": 73,
      "outputs": [
        {
          "output_type": "execute_result",
          "data": {
            "text/plain": [
              "(784, 100)"
            ]
          },
          "metadata": {
            "tags": []
          },
          "execution_count": 73
        }
      ]
    },
    {
      "cell_type": "code",
      "metadata": {
        "colab": {
          "base_uri": "https://localhost:8080/"
        },
        "id": "nNVWr01jMQT3",
        "outputId": "d23d9157-a63b-4f58-e8ff-5a99f2912c88"
      },
      "source": [
        "grads[\"b1\"].shape"
      ],
      "execution_count": 74,
      "outputs": [
        {
          "output_type": "execute_result",
          "data": {
            "text/plain": [
              "(100,)"
            ]
          },
          "metadata": {
            "tags": []
          },
          "execution_count": 74
        }
      ]
    },
    {
      "cell_type": "code",
      "metadata": {
        "colab": {
          "base_uri": "https://localhost:8080/"
        },
        "id": "6oEwttgkMTFs",
        "outputId": "c51aefdf-43b9-4ac6-a9a2-f3529c25efe3"
      },
      "source": [
        "grads[\"W2\"].shape"
      ],
      "execution_count": 75,
      "outputs": [
        {
          "output_type": "execute_result",
          "data": {
            "text/plain": [
              "(100, 10)"
            ]
          },
          "metadata": {
            "tags": []
          },
          "execution_count": 75
        }
      ]
    },
    {
      "cell_type": "code",
      "metadata": {
        "colab": {
          "base_uri": "https://localhost:8080/"
        },
        "id": "CRgZN6J6MYF2",
        "outputId": "749d782f-58b1-4c19-fb14-5e485a99ddbc"
      },
      "source": [
        "grads[\"b2\"].shape"
      ],
      "execution_count": 76,
      "outputs": [
        {
          "output_type": "execute_result",
          "data": {
            "text/plain": [
              "(10,)"
            ]
          },
          "metadata": {
            "tags": []
          },
          "execution_count": 76
        }
      ]
    },
    {
      "cell_type": "markdown",
      "metadata": {
        "id": "2qdg4_ukMaVS"
      },
      "source": [
        "## 4.5.2 ミニバッチ学習の実装\n",
        "\n",
        "<br />\n",
        "\n",
        "NNの学習の実装は、前に説明したミニバッチ学習で行います。ミニバッチ学習とは、訓練データから無作為に一部のデータを取り出して、そのミニバッチを対象に勾配法でパラメータを実装する。\n",
        "\n",
        "\n"
      ]
    },
    {
      "cell_type": "code",
      "metadata": {
        "id": "Hllk5JFGPbKA"
      },
      "source": [
        "# 実装\n",
        "\n",
        "import numpy as np\n",
        "from dataset.mnist import load_mnist\n",
        "from two_layer_net import TwoLayerNet\n",
        "\n",
        "(x_train, t_train), (x_test, t_test) = \\\n",
        "      load_mnist(normalize = True, one_hot_label = True)\n",
        "\n",
        "train_loss_list = []\n"
      ],
      "execution_count": 78,
      "outputs": []
    },
    {
      "cell_type": "code",
      "metadata": {
        "id": "7kL8zwxwQCFf"
      },
      "source": [
        "#hyper parameter\n",
        "iters_num = 10000#勾配法による更新の回数\n",
        "train_size = x_train.shape[0]\n",
        "batch_size = 100\n",
        "learning_rate = 0.1\n",
        "\n",
        "network = TwoLayerNet(input_size = 784, hidden_size = 50, output_size = 10)#inputは画像の28 * 28 , outputは0から9までの10クラスを指す。\n",
        "\n",
        "# forの入れ子\n",
        "for i in range(iters_num):\n",
        "    #ミニバッチの取得\n",
        "    batch_mask = np.random.choice(train_size, batch_size)#trainからbatchのサイズを無作為に抽出\n",
        "    x_batch = x_train[batch_mask]\n",
        "    t_batch = t_train[batch_mask]\n",
        "\n",
        "    #勾配の計算\n",
        "\n",
        "    grad = network.gradient(x_batch, t_batch)#高速版を使用！\n",
        "\n",
        "    # parameterの更新\n",
        "    for key in (\"W1\", \"b1\", \"W2\", \"b2\"):\n",
        "          network.params[key] -= learning_rate * grad[key]#keyはパラメータであり、パラメータごとにfor loopで更新する\n",
        "\n",
        "\n",
        "    loss = network.loss(x_batch, t_batch)#for loopの回数だけ損失関数の値を計算する\n",
        "    train_loss_list.append(loss)\n",
        "\n",
        "\n"
      ],
      "execution_count": 80,
      "outputs": []
    },
    {
      "cell_type": "markdown",
      "metadata": {
        "id": "mPrfwEMFUoKJ"
      },
      "source": [
        "## 4.5.3 テストデータで評価する\n",
        "\n",
        "<br />\n",
        "\n",
        "ミニバッチ学習によって、損失関数の値を減少させることができる。しかし、それはあくまで訓練データに対するフィッティングであって、現実のテストデータに対して同じ性能が出せるとは限らない。\n",
        "そもそも、NNの学習において重要なのは未知のデータに対しての予測能力を担保するための汎化能力を伸ばすことである。そのため、次の実装では学習の過程で定期的に訓練データとテストデータを対象に、1epochごとに認識精度を記録する。\n",
        "\n",
        "epochとは、学習において訓練データを全て使い切った時の回数に対応する。\n",
        "今回、10000個のデータを100個のミニバッチで学習するため、10000/100 = 100なので1エポックは100回である。"
      ]
    },
    {
      "cell_type": "code",
      "metadata": {
        "id": "cXFwouQ9Wbvf"
      },
      "source": [
        "# 正しい評価をするために実装を修正\n",
        "\n",
        "import numpy as np\n",
        "from dataset.mnist import load_mnist\n",
        "from two_layer_net import TwoLayerNet\n",
        "\n",
        "(x_train, t_train), (x_test, t_test) = \\\n",
        "      load_mnist(normalize = True, one_hot_label = True)\n"
      ],
      "execution_count": 81,
      "outputs": []
    },
    {
      "cell_type": "code",
      "metadata": {
        "id": "yKcm7IwfXFeJ"
      },
      "source": [
        "train_size = x_train.shape[0]"
      ],
      "execution_count": 84,
      "outputs": []
    },
    {
      "cell_type": "code",
      "metadata": {
        "colab": {
          "base_uri": "https://localhost:8080/"
        },
        "id": "QHYrsmTHXIma",
        "outputId": "7f76701e-e928-421a-e9eb-fe70b4f34ba2"
      },
      "source": [
        "#Hyper Parameter\n",
        "\n",
        "iters_num = 10000\n",
        "batch_size = 100\n",
        "learning_rate = 0.1\n",
        "\n",
        "train_loss_list = []\n",
        "train_acc_list = []\n",
        "test_acc_list = []\n",
        "#1epochあたりの繰り返し数\n",
        "iter_per_epoch = max(train_size/batch_size, 1)#エポックごとの繰り返し数の一般的な定義？\n",
        "\n",
        "network = TwoLayerNet(input_size = 784, hidden_size = 50, output_size = 10)\n",
        "\n",
        "for i in range(iters_num):\n",
        "    # ミニバッチの取得\n",
        "    batch_mask = np.random.choice(train_size, batch_size)\n",
        "    x_batch = x_train[batch_mask]\n",
        "    t_batch = t_train[batch_mask]\n",
        "\n",
        "    #勾配の計算\n",
        "    grad = network.gradient(x_batch, t_batch)\n",
        "\n",
        "    for key in (\"W1\", \"b1\", \"W2\", \"b2\"):\n",
        "          network.params[key] -= learning_rate * grad[key]\n",
        "\n",
        "    loss = network.loss(x_batch, t_batch)\n",
        "    train_loss_list.append(loss)\n",
        "\n",
        "    if i % iter_per_epoch == 0:\n",
        "        train_acc = network.accuracy(x_train, t_train)\n",
        "        test_acc = network.accuracy(x_test, t_test)\n",
        "        train_acc_list.append(train_acc)\n",
        "        test_acc_list.append(test_acc)\n",
        "        print(\"train acc, test acc | \" + str(train_acc) + \", \" + str(test_acc))\n",
        "\n",
        "  \n"
      ],
      "execution_count": 87,
      "outputs": [
        {
          "output_type": "stream",
          "text": [
            "train acc, test acc | 0.10441666666666667, 0.1028\n",
            "train acc, test acc | 0.7872666666666667, 0.7912\n",
            "train acc, test acc | 0.8710666666666667, 0.8751\n",
            "train acc, test acc | 0.8956, 0.8972\n",
            "train acc, test acc | 0.9054833333333333, 0.9074\n",
            "train acc, test acc | 0.9114833333333333, 0.9126\n",
            "train acc, test acc | 0.9168333333333333, 0.9185\n",
            "train acc, test acc | 0.9224833333333333, 0.9235\n",
            "train acc, test acc | 0.9252833333333333, 0.9252\n",
            "train acc, test acc | 0.93, 0.9303\n",
            "train acc, test acc | 0.9322, 0.9327\n",
            "train acc, test acc | 0.9356, 0.9333\n",
            "train acc, test acc | 0.9377666666666666, 0.9373\n",
            "train acc, test acc | 0.9409666666666666, 0.9402\n",
            "train acc, test acc | 0.9424833333333333, 0.9411\n",
            "train acc, test acc | 0.9449166666666666, 0.9431\n",
            "train acc, test acc | 0.9466, 0.944\n"
          ],
          "name": "stdout"
        }
      ]
    },
    {
      "cell_type": "markdown",
      "metadata": {
        "id": "GuatXkmma59r"
      },
      "source": [
        "### 4.6 まとめ\n",
        "\n",
        "<br />\n",
        "\n",
        "\n",
        "*　機械学習で使用するデータセットは、訓練データとテストデータに分けて使用する\n",
        "\n",
        "*　訓練データで学習を行い、学習したモデルの汎化能力をテストデータで評価する\n",
        "\n",
        "*   NNの学習は、損失関数を指標として損失関数の値が小さくなるように重みパラメータを更新する\n",
        "\n",
        "*   重みパラメータを更新する際には、重みパラメータの勾配を利用して、勾配方向に重みの値を更新する作業を繰り返す\n",
        "\n",
        "*   微小な値を与えた時の差分によって微分を行うことを数値微分という\n",
        "\n",
        "*   数値微分によって、重みパラメータの勾配を求めることができる。そして、この数値微分は時間がかかるが、誤差逆伝播法を用いるとより高速に勾配を求めることができる\n",
        "\n",
        "\n",
        "\n",
        "\n",
        "\n"
      ]
    }
  ]
}